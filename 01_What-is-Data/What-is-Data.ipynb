{
 "cells": [
  {
   "cell_type": "markdown",
   "id": "35ac1d5a",
   "metadata": {},
   "source": [
    "## What is Data?\n",
    "\n",
    "- Pandas 라이브러리 사용하여 데이터 불러오기 >>> df = pd.read_csv('파일주소', index_col='학생번호')\n",
    "    - 데이터 크기, 타입 확인 >>> df.shape, tpye(변수명)\n",
    "    - 데이터(df)를 numpy 배열로 저장 >>> scores = np.array(df['열 이름'])[:10]\n",
    "\n",
    "- Pandas로 불러온 데이터(df)를 numpy 배열로 변환 >>> scores = np.array(df['악력'])[:10]\n",
    "\n",
    "- Numpy 배열의 평균값, 중위수, 최빈값 구하기\n",
    "    1. np.mean()\n",
    "    2. np.median()\n",
    "    3. mode()                 'from scipy.stats import mode'\n",
    "\n",
    "- Numpy 배열의 편차, 분산, 표준편차 구하기\n",
    "    1. data - np.mean(data)\n",
    "    2. np.var()\n",
    "    3. np.std()\n",
    "\n",
    "- Numpy 배열(데이터) 정규화 >>> z = (scores - np.mean(scores)) / np.std(scores)\n",
    "    - 정규화 : 평균이 0, 표준편차가 1인 데이터로 변환"
   ]
  },
  {
   "cell_type": "code",
   "execution_count": 11,
   "id": "3faea236",
   "metadata": {},
   "outputs": [
    {
     "data": {
      "text/html": [
       "<div>\n",
       "<style scoped>\n",
       "    .dataframe tbody tr th:only-of-type {\n",
       "        vertical-align: middle;\n",
       "    }\n",
       "\n",
       "    .dataframe tbody tr th {\n",
       "        vertical-align: top;\n",
       "    }\n",
       "\n",
       "    .dataframe thead th {\n",
       "        text-align: right;\n",
       "    }\n",
       "</style>\n",
       "<table border=\"1\" class=\"dataframe\">\n",
       "  <thead>\n",
       "    <tr style=\"text-align: right;\">\n",
       "      <th></th>\n",
       "      <th>학년</th>\n",
       "      <th>악력</th>\n",
       "      <th>윗몸일으키기</th>\n",
       "      <th>점수</th>\n",
       "      <th>순위</th>\n",
       "    </tr>\n",
       "    <tr>\n",
       "      <th>학생번호</th>\n",
       "      <th></th>\n",
       "      <th></th>\n",
       "      <th></th>\n",
       "      <th></th>\n",
       "      <th></th>\n",
       "    </tr>\n",
       "  </thead>\n",
       "  <tbody>\n",
       "    <tr>\n",
       "      <th>1</th>\n",
       "      <td>1</td>\n",
       "      <td>40.2</td>\n",
       "      <td>34</td>\n",
       "      <td>15</td>\n",
       "      <td>4</td>\n",
       "    </tr>\n",
       "    <tr>\n",
       "      <th>2</th>\n",
       "      <td>1</td>\n",
       "      <td>34.2</td>\n",
       "      <td>14</td>\n",
       "      <td>7</td>\n",
       "      <td>10</td>\n",
       "    </tr>\n",
       "    <tr>\n",
       "      <th>3</th>\n",
       "      <td>1</td>\n",
       "      <td>28.8</td>\n",
       "      <td>27</td>\n",
       "      <td>11</td>\n",
       "      <td>7</td>\n",
       "    </tr>\n",
       "    <tr>\n",
       "      <th>4</th>\n",
       "      <td>2</td>\n",
       "      <td>39.0</td>\n",
       "      <td>27</td>\n",
       "      <td>14</td>\n",
       "      <td>5</td>\n",
       "    </tr>\n",
       "    <tr>\n",
       "      <th>5</th>\n",
       "      <td>2</td>\n",
       "      <td>50.9</td>\n",
       "      <td>32</td>\n",
       "      <td>17</td>\n",
       "      <td>2</td>\n",
       "    </tr>\n",
       "  </tbody>\n",
       "</table>\n",
       "</div>"
      ],
      "text/plain": [
       "      학년    악력  윗몸일으키기  점수  순위\n",
       "학생번호                          \n",
       "1      1  40.2      34  15   4\n",
       "2      1  34.2      14   7  10\n",
       "3      1  28.8      27  11   7\n",
       "4      2  39.0      27  14   5\n",
       "5      2  50.9      32  17   2"
      ]
     },
     "execution_count": 11,
     "metadata": {},
     "output_type": "execute_result"
    }
   ],
   "source": [
    "import pandas as pd\n",
    "\n",
    "df = pd.read_csv('C:/Users/User/Jupyter/statistical_analysis/data/ch1_sport_test.csv', index_col='학생번호')\n",
    "\n",
    "df.head()\n",
    "\n",
    "# 만약 numpy file이면...\n",
    "# a = np.load('C:/Users/User/Jupyter/statistical_analysis/data/ch1_sport_test.csv')\n",
    "# np.save('D:/admin/Documents/x_save.npy', x)"
   ]
  },
  {
   "cell_type": "code",
   "execution_count": 12,
   "id": "a01d4170",
   "metadata": {},
   "outputs": [],
   "source": [
    "A = df['악력']"
   ]
  },
  {
   "cell_type": "code",
   "execution_count": 13,
   "id": "a58285e3",
   "metadata": {
    "scrolled": true
   },
   "outputs": [
    {
     "name": "stdout",
     "output_type": "stream",
     "text": [
      "학생번호\n",
      "1     40.2\n",
      "2     34.2\n",
      "3     28.8\n",
      "4     39.0\n",
      "5     50.9\n",
      "6     36.5\n",
      "7     36.6\n",
      "8     49.2\n",
      "9     26.0\n",
      "10    47.4\n",
      "Name: 악력, dtype: float64\n"
     ]
    }
   ],
   "source": [
    "print(A)"
   ]
  },
  {
   "cell_type": "code",
   "execution_count": 27,
   "id": "eb1ae43a",
   "metadata": {},
   "outputs": [
    {
     "data": {
      "text/plain": [
       "(10, 5)"
      ]
     },
     "execution_count": 27,
     "metadata": {},
     "output_type": "execute_result"
    }
   ],
   "source": [
    "df.shape"
   ]
  },
  {
   "cell_type": "code",
   "execution_count": 28,
   "id": "ac09a9fb",
   "metadata": {},
   "outputs": [],
   "source": [
    "sp = df.shape"
   ]
  },
  {
   "cell_type": "code",
   "execution_count": 29,
   "id": "dbc84d71",
   "metadata": {},
   "outputs": [
    {
     "name": "stdout",
     "output_type": "stream",
     "text": [
      "(10, 5)\n"
     ]
    }
   ],
   "source": [
    "print(sp)"
   ]
  },
  {
   "cell_type": "code",
   "execution_count": 30,
   "id": "d5188c7b",
   "metadata": {},
   "outputs": [
    {
     "data": {
      "text/plain": [
       "tuple"
      ]
     },
     "execution_count": 30,
     "metadata": {},
     "output_type": "execute_result"
    }
   ],
   "source": [
    "type(sp)"
   ]
  },
  {
   "cell_type": "code",
   "execution_count": 31,
   "id": "720dcc2b",
   "metadata": {},
   "outputs": [
    {
     "data": {
      "text/plain": [
       "10"
      ]
     },
     "execution_count": 31,
     "metadata": {},
     "output_type": "execute_result"
    }
   ],
   "source": [
    "sp[0]"
   ]
  },
  {
   "cell_type": "code",
   "execution_count": 32,
   "id": "1e258857",
   "metadata": {},
   "outputs": [
    {
     "data": {
      "text/plain": [
       "5"
      ]
     },
     "execution_count": 32,
     "metadata": {},
     "output_type": "execute_result"
    }
   ],
   "source": [
    "sp[1]"
   ]
  },
  {
   "cell_type": "code",
   "execution_count": 36,
   "id": "b60bed99",
   "metadata": {},
   "outputs": [
    {
     "name": "stdout",
     "output_type": "stream",
     "text": [
      "[40.2 34.2 28.8 39.  50.9 36.5 36.6 49.2 26.  47.4]\n"
     ]
    }
   ],
   "source": [
    "# 처음 10명의 악력 수치를 넘파이 배열로 만들기\n",
    "scores = np.array(df['악력'])[:10]\n",
    "print(scores)"
   ]
  },
  {
   "cell_type": "code",
   "execution_count": 45,
   "id": "13a5813b",
   "metadata": {},
   "outputs": [
    {
     "name": "stdout",
     "output_type": "stream",
     "text": [
      "38.879999999999995 38.879999999999995\n",
      "37.8\n",
      "ModeResult(mode=array([26.]), count=array([1]))\n"
     ]
    }
   ],
   "source": [
    "# 평균값, 중위수, 최빈수\n",
    "\n",
    "# 평균값(1)\n",
    "mean1 = sum(scores) / len(scores)\n",
    "mean2 = np.mean(scores)\n",
    "\n",
    "print(mean1, mean2)\n",
    "\n",
    "# 중위수\n",
    "median = np.median(scores)\n",
    "\n",
    "print(median)\n",
    "\n",
    "# 최빈수\n",
    "from scipy.stats import mode\n",
    "mode = mode(scores)\n",
    "print(mode)"
   ]
  },
  {
   "cell_type": "code",
   "execution_count": 49,
   "id": "dfee3df3",
   "metadata": {},
   "outputs": [
    {
     "name": "stdout",
     "output_type": "stream",
     "text": [
      "[  1.32  -4.68 -10.08   0.12  12.02  -2.38  -2.28  10.32 -12.88   8.52]\n",
      "62.5596\n",
      "7.909462687186785\n"
     ]
    }
   ],
   "source": [
    "# 분산, 표준편차\n",
    "\n",
    "# 편차\n",
    "mean = np.mean(scores)\n",
    "deviation = scores - mean\n",
    "print(deviation)\n",
    "\n",
    "# 분산\n",
    "var = np.var(scores)\n",
    "print(var)\n",
    "\n",
    "# 표준편차\n",
    "std = np.std(scores)\n",
    "print(std)"
   ]
  },
  {
   "cell_type": "code",
   "execution_count": 50,
   "id": "6aac2b47",
   "metadata": {},
   "outputs": [
    {
     "name": "stdout",
     "output_type": "stream",
     "text": [
      "[ 0.16688871 -0.59169632 -1.27442285  0.0151717   1.51969868 -0.3009054\n",
      " -0.28826231  1.30476625 -1.6284292   1.07719074]\n",
      "6.883382752675971e-16 1.0\n"
     ]
    }
   ],
   "source": [
    "# 데이터 정규화\n",
    "z = (scores - np.mean(scores)) / np.std(scores)\n",
    "print(z)\n",
    "\n",
    "z_mean = np.mean(z)\n",
    "z_std = np.std(z)\n",
    "print(z_mean, z_std)"
   ]
  }
 ],
 "metadata": {
  "kernelspec": {
   "display_name": "py_365",
   "language": "python",
   "name": "py_365"
  },
  "language_info": {
   "codemirror_mode": {
    "name": "ipython",
    "version": 3
   },
   "file_extension": ".py",
   "mimetype": "text/x-python",
   "name": "python",
   "nbconvert_exporter": "python",
   "pygments_lexer": "ipython3",
   "version": "3.6.5"
  }
 },
 "nbformat": 4,
 "nbformat_minor": 5
}
