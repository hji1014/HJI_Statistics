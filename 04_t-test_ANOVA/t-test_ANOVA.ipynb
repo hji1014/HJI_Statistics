{
 "cells": [
  {
   "cell_type": "markdown",
   "id": "08da9f1a",
   "metadata": {},
   "source": [
    "## [t-test_ANOVA]\n",
    "<br/>\n",
    "\n",
    "- 2표본 문제에 관한 가설검정\n",
    "    - 1차원 이산형 확률변수\n",
    "    - Paired t-test\n",
    "    - Independent t-test\n",
    "    <br/><br/>\n",
    "\n",
    "- 세 군 이상의 크기 비교\n",
    "    - One way ANOVA\n",
    "    <br/><br/>\n",
    "    "
   ]
  },
  {
   "attachments": {
    "image-2.png": {
     "image/png": "[encoded data removed]"
    }
   },
   "cell_type": "markdown",
   "id": "0199bdec",
   "metadata": {},
   "source": [
    "- ###  Paired t-test (if 정규성 만족 x &rarr; 윌콕슨의 부호순위검정)\n",
    "<br/>\n",
    "\n",
    "문제 : 다음은 새로운 항우울제의 치료 효과를 증명하기 위한 연구이다. 총 26명의 우울증 환자를 대상으로 항우울제 치료 전/후(Pre/Post)의 우울증 점수를 측정하였다. 치료 전과 비교하여 새 항우울제 치료 후 우울증 점수가 유의하게 감소하였는지를 검정하라. (정규성은 만족한다고 가정)\n",
    "\n",
    "![image-2.png](attachment:image-2.png)"
   ]
  },
  {
   "cell_type": "code",
   "execution_count": 2,
   "id": "d074d86c",
   "metadata": {},
   "outputs": [
    {
     "name": "stdout",
     "output_type": "stream",
     "text": [
      "(26, 2)\n"
     ]
    },
    {
     "data": {
      "text/html": [
       "<div>\n",
       "<style scoped>\n",
       "    .dataframe tbody tr th:only-of-type {\n",
       "        vertical-align: middle;\n",
       "    }\n",
       "\n",
       "    .dataframe tbody tr th {\n",
       "        vertical-align: top;\n",
       "    }\n",
       "\n",
       "    .dataframe thead th {\n",
       "        text-align: right;\n",
       "    }\n",
       "</style>\n",
       "<table border=\"1\" class=\"dataframe\">\n",
       "  <thead>\n",
       "    <tr style=\"text-align: right;\">\n",
       "      <th></th>\n",
       "      <th>Pre</th>\n",
       "      <th>Post</th>\n",
       "    </tr>\n",
       "  </thead>\n",
       "  <tbody>\n",
       "    <tr>\n",
       "      <th>0</th>\n",
       "      <td>38</td>\n",
       "      <td>24</td>\n",
       "    </tr>\n",
       "    <tr>\n",
       "      <th>1</th>\n",
       "      <td>26</td>\n",
       "      <td>22</td>\n",
       "    </tr>\n",
       "    <tr>\n",
       "      <th>2</th>\n",
       "      <td>25</td>\n",
       "      <td>19</td>\n",
       "    </tr>\n",
       "    <tr>\n",
       "      <th>3</th>\n",
       "      <td>32</td>\n",
       "      <td>18</td>\n",
       "    </tr>\n",
       "    <tr>\n",
       "      <th>4</th>\n",
       "      <td>28</td>\n",
       "      <td>24</td>\n",
       "    </tr>\n",
       "  </tbody>\n",
       "</table>\n",
       "</div>"
      ],
      "text/plain": [
       "   Pre  Post\n",
       "0   38    24\n",
       "1   26    22\n",
       "2   25    19\n",
       "3   32    18\n",
       "4   28    24"
      ]
     },
     "execution_count": 2,
     "metadata": {},
     "output_type": "execute_result"
    }
   ],
   "source": [
    "import numpy as np\n",
    "import pandas as pd\n",
    "from scipy import stats\n",
    "\n",
    "np.random.seed(111)\n",
    "\n",
    "depression = pd.read_csv('C:/Users/User/Jupyter/statistical_analysis/data/ch11_depression.csv')\n",
    "print(depression.shape)\n",
    "\n",
    "depression.head()"
   ]
  },
  {
   "cell_type": "code",
   "execution_count": 9,
   "id": "b59bee2d",
   "metadata": {},
   "outputs": [
    {
     "name": "stdout",
     "output_type": "stream",
     "text": [
      "3.1636311371318185e-10\n"
     ]
    }
   ],
   "source": [
    "# 방법(1)\n",
    "\n",
    "depression['Diff'] = depression['Pre'] - depression['Post']\n",
    "depression.head()\n",
    "\n",
    "t, p = stats.ttest_1samp(depression['Diff'], 0)\n",
    "p_val1 = p/2\n",
    "print(p_val1)"
   ]
  },
  {
   "cell_type": "code",
   "execution_count": 10,
   "id": "f0d678b3",
   "metadata": {},
   "outputs": [
    {
     "name": "stdout",
     "output_type": "stream",
     "text": [
      "3.1636311371318185e-10\n"
     ]
    }
   ],
   "source": [
    "# 방법(2)\n",
    "\n",
    "t, p = stats.ttest_rel(depression['Pre'], depression['Post'])\n",
    "p_val2 = p/2\n",
    "print(p_val2)"
   ]
  },
  {
   "attachments": {
    "image-3.png": {
     "image/png": "[encoded data removed]"
    }
   },
   "cell_type": "markdown",
   "id": "ee0185c4",
   "metadata": {},
   "source": [
    "- ###  independent t-test (if 정규성 만족 x &rarr; 만ㆍ위트니의 U 검정)\n",
    "<br/>\n",
    "\n",
    "문제 : 새로운 항우울제의 치료 효과를 증명하기 위해 40명의 우울증 환자를 군당 20명씩 실험군과 대조군으로 무작위 배정하여 실험군에게는 항우울제를, 대조군에게는 위약(가짜 약)을 투여하였다. 1개월의 치료 뒤 측정한 우울증 점수를 통해 두 군의 치료 효과의 크기를 비교하고자 한다. 두 군 사이에 우울증 점수의 차이가 있는지 검정하라. (독립성, 정규성, 등분산성은 만족한다고 가정)\n",
    "\n",
    "![image-3.png](attachment:image-3.png)"
   ]
  },
  {
   "cell_type": "code",
   "execution_count": 11,
   "id": "a1857982",
   "metadata": {},
   "outputs": [
    {
     "name": "stdout",
     "output_type": "stream",
     "text": [
      "(20, 2)\n"
     ]
    },
    {
     "data": {
      "text/html": [
       "<div>\n",
       "<style scoped>\n",
       "    .dataframe tbody tr th:only-of-type {\n",
       "        vertical-align: middle;\n",
       "    }\n",
       "\n",
       "    .dataframe tbody tr th {\n",
       "        vertical-align: top;\n",
       "    }\n",
       "\n",
       "    .dataframe thead th {\n",
       "        text-align: right;\n",
       "    }\n",
       "</style>\n",
       "<table border=\"1\" class=\"dataframe\">\n",
       "  <thead>\n",
       "    <tr style=\"text-align: right;\">\n",
       "      <th></th>\n",
       "      <th>실험군</th>\n",
       "      <th>대조군</th>\n",
       "    </tr>\n",
       "  </thead>\n",
       "  <tbody>\n",
       "    <tr>\n",
       "      <th>0</th>\n",
       "      <td>10</td>\n",
       "      <td>23</td>\n",
       "    </tr>\n",
       "    <tr>\n",
       "      <th>1</th>\n",
       "      <td>16</td>\n",
       "      <td>26</td>\n",
       "    </tr>\n",
       "    <tr>\n",
       "      <th>2</th>\n",
       "      <td>27</td>\n",
       "      <td>27</td>\n",
       "    </tr>\n",
       "    <tr>\n",
       "      <th>3</th>\n",
       "      <td>15</td>\n",
       "      <td>23</td>\n",
       "    </tr>\n",
       "    <tr>\n",
       "      <th>4</th>\n",
       "      <td>21</td>\n",
       "      <td>16</td>\n",
       "    </tr>\n",
       "  </tbody>\n",
       "</table>\n",
       "</div>"
      ],
      "text/plain": [
       "   실험군  대조군\n",
       "0   10   23\n",
       "1   16   26\n",
       "2   27   27\n",
       "3   15   23\n",
       "4   21   16"
      ]
     },
     "execution_count": 11,
     "metadata": {},
     "output_type": "execute_result"
    }
   ],
   "source": [
    "import numpy as np\n",
    "import pandas as pd\n",
    "from scipy import stats\n",
    "\n",
    "np.random.seed(111)\n",
    "\n",
    "depression = pd.read_csv('C:/Users/User/Jupyter/statistical_analysis/data/ch11_depression_independent.csv')\n",
    "print(depression.shape)\n",
    "\n",
    "depression.head()"
   ]
  },
  {
   "cell_type": "code",
   "execution_count": 13,
   "id": "404b6404",
   "metadata": {},
   "outputs": [
    {
     "name": "stdout",
     "output_type": "stream",
     "text": [
      "-2.7163653614156966 0.009917052054566907\n"
     ]
    }
   ],
   "source": [
    "t, p = stats.ttest_ind(depression['실험군'], depression['대조군'], equal_var=False) # equal_var=False : 웰치의 방법을 사용하여 p값을 구하겠다는 의미\n",
    "\n",
    "print(t, p)"
   ]
  },
  {
   "attachments": {
    "image-3.png": {
     "image/png": "[encoded data removed]"
    },
    "image.png": {
     "image/png": "[encoded data removed]"
    }
   },
   "cell_type": "markdown",
   "id": "5f1e53a1",
   "metadata": {},
   "source": [
    "- ###  일원배치 분산분석(one way analysis of variance, one way ANOVA)\n",
    "<br/>\n",
    ": 연속형 변수로 측정된 세 군 이상의 크기를 비교하기 위해 흔히 사용되는 통계분석 방법\n",
    "\n",
    "![image.png](attachment:image.png)\n",
    "\n",
    "문제 : 다음은 서로 다른 항우울제의 치료 효과를 비교하기 위한 연구이다. 36명의 우울증 환자를 A 집단, B 집단, C 집단으로 12명씩 무작위 배정하여 각각 A 약, B 약, C 약을 2개월 동안 투여한 뒤 우울증 점수를 측정하였다. 이 세가지 약의 치료 효과를 비교하라.(단 독립성, 정규성, 등분산성은 만족한다고 가정한다.)\n",
    "\n",
    "![image-3.png](attachment:image-3.png)"
   ]
  },
  {
   "cell_type": "code",
   "execution_count": 17,
   "id": "72b32165",
   "metadata": {},
   "outputs": [
    {
     "name": "stdout",
     "output_type": "stream",
     "text": [
      "(12, 3)\n"
     ]
    },
    {
     "data": {
      "text/html": [
       "<div>\n",
       "<style scoped>\n",
       "    .dataframe tbody tr th:only-of-type {\n",
       "        vertical-align: middle;\n",
       "    }\n",
       "\n",
       "    .dataframe tbody tr th {\n",
       "        vertical-align: top;\n",
       "    }\n",
       "\n",
       "    .dataframe thead th {\n",
       "        text-align: right;\n",
       "    }\n",
       "</style>\n",
       "<table border=\"1\" class=\"dataframe\">\n",
       "  <thead>\n",
       "    <tr style=\"text-align: right;\">\n",
       "      <th></th>\n",
       "      <th>A</th>\n",
       "      <th>B</th>\n",
       "      <th>C</th>\n",
       "    </tr>\n",
       "  </thead>\n",
       "  <tbody>\n",
       "    <tr>\n",
       "      <th>0</th>\n",
       "      <td>21</td>\n",
       "      <td>22</td>\n",
       "      <td>23</td>\n",
       "    </tr>\n",
       "    <tr>\n",
       "      <th>1</th>\n",
       "      <td>22</td>\n",
       "      <td>19</td>\n",
       "      <td>19</td>\n",
       "    </tr>\n",
       "    <tr>\n",
       "      <th>2</th>\n",
       "      <td>23</td>\n",
       "      <td>14</td>\n",
       "      <td>22</td>\n",
       "    </tr>\n",
       "    <tr>\n",
       "      <th>3</th>\n",
       "      <td>22</td>\n",
       "      <td>18</td>\n",
       "      <td>23</td>\n",
       "    </tr>\n",
       "    <tr>\n",
       "      <th>4</th>\n",
       "      <td>21</td>\n",
       "      <td>19</td>\n",
       "      <td>19</td>\n",
       "    </tr>\n",
       "  </tbody>\n",
       "</table>\n",
       "</div>"
      ],
      "text/plain": [
       "    A   B   C\n",
       "0  21  22  23\n",
       "1  22  19  19\n",
       "2  23  14  22\n",
       "3  22  18  23\n",
       "4  21  19  19"
      ]
     },
     "execution_count": 17,
     "metadata": {},
     "output_type": "execute_result"
    }
   ],
   "source": [
    "import numpy as np\n",
    "import pandas as pd\n",
    "from scipy import stats\n",
    "\n",
    "np.random.seed(14)\n",
    "\n",
    "depression_ANOVA = pd.read_csv('C:/Users/User/Jupyter/statistical_analysis/data/ch11_depression_ANOVA.csv')\n",
    "print(depression_ANOVA.shape)\n",
    "depression_ANOVA.head()"
   ]
  },
  {
   "cell_type": "code",
   "execution_count": 20,
   "id": "ba780849",
   "metadata": {},
   "outputs": [
    {
     "name": "stdout",
     "output_type": "stream",
     "text": [
      "ANOVA 결과 : F=9.7, p=0.00050\n",
      "p-value가 충분히 작기 때문에 그룹 평균값이 통계적으로 유의하게 차이납니다.\n"
     ]
    }
   ],
   "source": [
    "# F검정\n",
    "\n",
    "F, p = stats.f_oneway(depression_ANOVA['A'], depression_ANOVA['B'], depression_ANOVA['C'])\n",
    "print('ANOVA 결과 : F={0:.1f}, p={1:.5f}'.format(F, p))\n",
    "\n",
    "if p < 0.05:\n",
    "    print('p-value가 충분히 작기 때문에 그룹 평균값이 통계적으로 유의하게 차이납니다.')"
   ]
  },
  {
   "cell_type": "code",
   "execution_count": 29,
   "id": "8ed64844",
   "metadata": {},
   "outputs": [
    {
     "data": {
      "text/html": [
       "<div>\n",
       "<style scoped>\n",
       "    .dataframe tbody tr th:only-of-type {\n",
       "        vertical-align: middle;\n",
       "    }\n",
       "\n",
       "    .dataframe tbody tr th {\n",
       "        vertical-align: top;\n",
       "    }\n",
       "\n",
       "    .dataframe thead th {\n",
       "        text-align: right;\n",
       "    }\n",
       "</style>\n",
       "<table border=\"1\" class=\"dataframe\">\n",
       "  <thead>\n",
       "    <tr style=\"text-align: right;\">\n",
       "      <th></th>\n",
       "      <th>score</th>\n",
       "      <th>group</th>\n",
       "    </tr>\n",
       "  </thead>\n",
       "  <tbody>\n",
       "    <tr>\n",
       "      <th>0</th>\n",
       "      <td>21</td>\n",
       "      <td>A</td>\n",
       "    </tr>\n",
       "    <tr>\n",
       "      <th>1</th>\n",
       "      <td>22</td>\n",
       "      <td>A</td>\n",
       "    </tr>\n",
       "    <tr>\n",
       "      <th>2</th>\n",
       "      <td>23</td>\n",
       "      <td>A</td>\n",
       "    </tr>\n",
       "    <tr>\n",
       "      <th>3</th>\n",
       "      <td>22</td>\n",
       "      <td>A</td>\n",
       "    </tr>\n",
       "    <tr>\n",
       "      <th>4</th>\n",
       "      <td>21</td>\n",
       "      <td>A</td>\n",
       "    </tr>\n",
       "  </tbody>\n",
       "</table>\n",
       "</div>"
      ],
      "text/plain": [
       "   score group\n",
       "0     21     A\n",
       "1     22     A\n",
       "2     23     A\n",
       "3     22     A\n",
       "4     21     A"
      ]
     },
     "execution_count": 29,
     "metadata": {},
     "output_type": "execute_result"
    }
   ],
   "source": [
    "# 사후분석에 필요한 DataFrame 만들기\n",
    "\n",
    "all_data = []\n",
    "all_data.extend(depression_ANOVA['A'])\n",
    "all_data.extend(depression_ANOVA['B'])\n",
    "all_data.extend(depression_ANOVA['C'])\n",
    "\n",
    "all_data_group = []\n",
    "\n",
    "for i in range(12):\n",
    "    all_data_group.append('A')\n",
    "for j in range(12):\n",
    "    all_data_group.append('B')\n",
    "for k in range(12):\n",
    "    all_data_group.append('C')\n",
    "    \n",
    "df = pd.DataFrame({'score':all_data, 'group':all_data_group})\n",
    "df.head()"
   ]
  },
  {
   "cell_type": "code",
   "execution_count": 33,
   "id": "03ce04f1",
   "metadata": {},
   "outputs": [
    {
     "data": {
      "text/html": [
       "<table class=\"simpletable\">\n",
       "<caption>Multiple Comparison of Means - Tukey HSD, FWER=0.05</caption>\n",
       "<tr>\n",
       "  <th>group1</th> <th>group2</th> <th>meandiff</th>  <th>p-adj</th>  <th>lower</th>   <th>upper</th>  <th>reject</th>\n",
       "</tr>\n",
       "<tr>\n",
       "     <td>A</td>      <td>B</td>     <td>-4.5</td>    <td>0.001</td> <td>-7.0271</td> <td>-1.9729</td>  <td>True</td> \n",
       "</tr>\n",
       "<tr>\n",
       "     <td>A</td>      <td>C</td>    <td>-1.8333</td>  <td>0.192</td> <td>-4.3604</td> <td>0.6938</td>   <td>False</td>\n",
       "</tr>\n",
       "<tr>\n",
       "     <td>B</td>      <td>C</td>    <td>2.6667</td>  <td>0.0369</td> <td>0.1396</td>  <td>5.1938</td>   <td>True</td> \n",
       "</tr>\n",
       "</table>"
      ],
      "text/plain": [
       "<class 'statsmodels.iolib.table.SimpleTable'>"
      ]
     },
     "execution_count": 33,
     "metadata": {},
     "output_type": "execute_result"
    }
   ],
   "source": [
    "# 사후분석\n",
    "\n",
    "from statsmodels.sandbox.stats.multicomp import MultiComparison\n",
    "from statsmodels.stats.multicomp import pairwise_tukeyhsd\n",
    "\n",
    "comp = MultiComparison(df.score, df.group)\n",
    "hsd = pairwise_tukeyhsd(df['score'], df['group'], alpha=0.05)\n",
    "hsd.summary()\n",
    "\n",
    "# reject=True면 귀무가설 기각. 즉, 평균의 차이가 있다."
   ]
  }
 ],
 "metadata": {
  "kernelspec": {
   "display_name": "py_365",
   "language": "python",
   "name": "py_365"
  },
  "language_info": {
   "codemirror_mode": {
    "name": "ipython",
    "version": 3
   },
   "file_extension": ".py",
   "mimetype": "text/x-python",
   "name": "python",
   "nbconvert_exporter": "python",
   "pygments_lexer": "ipython3",
   "version": "3.6.5"
  }
 },
 "nbformat": 4,
 "nbformat_minor": 5
}
