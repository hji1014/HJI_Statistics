{
 "cells": [
  {
   "cell_type": "markdown",
   "id": "4d6de118",
   "metadata": {},
   "source": [
    "## [Basic-of-Machine-Learning]\n",
    "<br/>\n",
    "\n",
    "- 선형 분류\n",
    "    - Linear SVM (support vector machine) 실습\n",
    "    <br/><br/>\n",
    "\n",
    "- 퍼셉트론\n",
    "    - 퍼셉트론을 사용한 AND 게이트 구현\n",
    "    - 가중치(w)와 편향(b) 도입\n",
    "    - 편향(b)을 추가하여 NAND, OR 게이트 구현\n",
    "    <br/><br/>\n",
    "    \n",
    "- 다층 퍼셉트론\n",
    "    - AND, NAND, OR 게이트를 각각 1개씩 사용하여 XOR 게이트 구현\n",
    "    - 활성화 함수 구현(tanh 함수, sigmoid 함수, ReLU 함수)\n",
    "    - 4-layered 신경망 실습\n",
    "    <br/><br/>\n",
    "    "
   ]
  },
  {
   "attachments": {},
   "cell_type": "markdown",
   "id": "b5a2e8c1",
   "metadata": {},
   "source": [
    "- ###  선형 분류기 실습\n",
    "    - 입력 데이터 : 위스콘신 유방암 데이터 세트\n",
    "    - 종양의 크기, 모양 등 30개의 속성(feature) 값을 기반으로 해당 종양이 악성인지 양성인지를 분류한 데이터 세트\n",
    "    - scikit-learn 패키지에서 제공하는 머신러닝 오픈 데이터셋의 한 종류\n",
    "    - 분류기 모델 : linear SVM\n",
    "    <br/>"
   ]
  },
  {
   "cell_type": "code",
   "execution_count": 1,
   "id": "daf43768",
   "metadata": {},
   "outputs": [
    {
     "name": "stderr",
     "output_type": "stream",
     "text": [
      "C:\\Users\\User\\anaconda3\\envs\\py_365\\lib\\importlib\\_bootstrap.py:219: RuntimeWarning: numpy.ufunc size changed, may indicate binary incompatibility. Expected 192 from C header, got 216 from PyObject\n",
      "  return f(*args, **kwds)\n",
      "C:\\Users\\User\\anaconda3\\envs\\py_365\\lib\\importlib\\_bootstrap.py:219: RuntimeWarning: numpy.ufunc size changed, may indicate binary incompatibility. Expected 216, got 192\n",
      "  return f(*args, **kwds)\n",
      "C:\\Users\\User\\anaconda3\\envs\\py_365\\lib\\importlib\\_bootstrap.py:219: RuntimeWarning: numpy.ufunc size changed, may indicate binary incompatibility. Expected 216, got 192\n",
      "  return f(*args, **kwds)\n"
     ]
    },
    {
     "data": {
      "text/html": [
       "<div>\n",
       "<style scoped>\n",
       "    .dataframe tbody tr th:only-of-type {\n",
       "        vertical-align: middle;\n",
       "    }\n",
       "\n",
       "    .dataframe tbody tr th {\n",
       "        vertical-align: top;\n",
       "    }\n",
       "\n",
       "    .dataframe thead th {\n",
       "        text-align: right;\n",
       "    }\n",
       "</style>\n",
       "<table border=\"1\" class=\"dataframe\">\n",
       "  <thead>\n",
       "    <tr style=\"text-align: right;\">\n",
       "      <th></th>\n",
       "      <th>mean radius</th>\n",
       "      <th>mean texture</th>\n",
       "      <th>mean perimeter</th>\n",
       "      <th>mean area</th>\n",
       "      <th>mean smoothness</th>\n",
       "      <th>mean compactness</th>\n",
       "      <th>mean concavity</th>\n",
       "      <th>mean concave points</th>\n",
       "      <th>mean symmetry</th>\n",
       "      <th>mean fractal dimension</th>\n",
       "      <th>...</th>\n",
       "      <th>worst radius</th>\n",
       "      <th>worst texture</th>\n",
       "      <th>worst perimeter</th>\n",
       "      <th>worst area</th>\n",
       "      <th>worst smoothness</th>\n",
       "      <th>worst compactness</th>\n",
       "      <th>worst concavity</th>\n",
       "      <th>worst concave points</th>\n",
       "      <th>worst symmetry</th>\n",
       "      <th>worst fractal dimension</th>\n",
       "    </tr>\n",
       "  </thead>\n",
       "  <tbody>\n",
       "    <tr>\n",
       "      <th>0</th>\n",
       "      <td>17.99</td>\n",
       "      <td>10.38</td>\n",
       "      <td>122.80</td>\n",
       "      <td>1001.0</td>\n",
       "      <td>0.11840</td>\n",
       "      <td>0.27760</td>\n",
       "      <td>0.3001</td>\n",
       "      <td>0.14710</td>\n",
       "      <td>0.2419</td>\n",
       "      <td>0.07871</td>\n",
       "      <td>...</td>\n",
       "      <td>25.38</td>\n",
       "      <td>17.33</td>\n",
       "      <td>184.60</td>\n",
       "      <td>2019.0</td>\n",
       "      <td>0.1622</td>\n",
       "      <td>0.6656</td>\n",
       "      <td>0.7119</td>\n",
       "      <td>0.2654</td>\n",
       "      <td>0.4601</td>\n",
       "      <td>0.11890</td>\n",
       "    </tr>\n",
       "    <tr>\n",
       "      <th>1</th>\n",
       "      <td>20.57</td>\n",
       "      <td>17.77</td>\n",
       "      <td>132.90</td>\n",
       "      <td>1326.0</td>\n",
       "      <td>0.08474</td>\n",
       "      <td>0.07864</td>\n",
       "      <td>0.0869</td>\n",
       "      <td>0.07017</td>\n",
       "      <td>0.1812</td>\n",
       "      <td>0.05667</td>\n",
       "      <td>...</td>\n",
       "      <td>24.99</td>\n",
       "      <td>23.41</td>\n",
       "      <td>158.80</td>\n",
       "      <td>1956.0</td>\n",
       "      <td>0.1238</td>\n",
       "      <td>0.1866</td>\n",
       "      <td>0.2416</td>\n",
       "      <td>0.1860</td>\n",
       "      <td>0.2750</td>\n",
       "      <td>0.08902</td>\n",
       "    </tr>\n",
       "    <tr>\n",
       "      <th>2</th>\n",
       "      <td>19.69</td>\n",
       "      <td>21.25</td>\n",
       "      <td>130.00</td>\n",
       "      <td>1203.0</td>\n",
       "      <td>0.10960</td>\n",
       "      <td>0.15990</td>\n",
       "      <td>0.1974</td>\n",
       "      <td>0.12790</td>\n",
       "      <td>0.2069</td>\n",
       "      <td>0.05999</td>\n",
       "      <td>...</td>\n",
       "      <td>23.57</td>\n",
       "      <td>25.53</td>\n",
       "      <td>152.50</td>\n",
       "      <td>1709.0</td>\n",
       "      <td>0.1444</td>\n",
       "      <td>0.4245</td>\n",
       "      <td>0.4504</td>\n",
       "      <td>0.2430</td>\n",
       "      <td>0.3613</td>\n",
       "      <td>0.08758</td>\n",
       "    </tr>\n",
       "    <tr>\n",
       "      <th>3</th>\n",
       "      <td>11.42</td>\n",
       "      <td>20.38</td>\n",
       "      <td>77.58</td>\n",
       "      <td>386.1</td>\n",
       "      <td>0.14250</td>\n",
       "      <td>0.28390</td>\n",
       "      <td>0.2414</td>\n",
       "      <td>0.10520</td>\n",
       "      <td>0.2597</td>\n",
       "      <td>0.09744</td>\n",
       "      <td>...</td>\n",
       "      <td>14.91</td>\n",
       "      <td>26.50</td>\n",
       "      <td>98.87</td>\n",
       "      <td>567.7</td>\n",
       "      <td>0.2098</td>\n",
       "      <td>0.8663</td>\n",
       "      <td>0.6869</td>\n",
       "      <td>0.2575</td>\n",
       "      <td>0.6638</td>\n",
       "      <td>0.17300</td>\n",
       "    </tr>\n",
       "    <tr>\n",
       "      <th>4</th>\n",
       "      <td>20.29</td>\n",
       "      <td>14.34</td>\n",
       "      <td>135.10</td>\n",
       "      <td>1297.0</td>\n",
       "      <td>0.10030</td>\n",
       "      <td>0.13280</td>\n",
       "      <td>0.1980</td>\n",
       "      <td>0.10430</td>\n",
       "      <td>0.1809</td>\n",
       "      <td>0.05883</td>\n",
       "      <td>...</td>\n",
       "      <td>22.54</td>\n",
       "      <td>16.67</td>\n",
       "      <td>152.20</td>\n",
       "      <td>1575.0</td>\n",
       "      <td>0.1374</td>\n",
       "      <td>0.2050</td>\n",
       "      <td>0.4000</td>\n",
       "      <td>0.1625</td>\n",
       "      <td>0.2364</td>\n",
       "      <td>0.07678</td>\n",
       "    </tr>\n",
       "  </tbody>\n",
       "</table>\n",
       "<p>5 rows × 30 columns</p>\n",
       "</div>"
      ],
      "text/plain": [
       "   mean radius  mean texture  mean perimeter  mean area  mean smoothness  \\\n",
       "0        17.99         10.38          122.80     1001.0          0.11840   \n",
       "1        20.57         17.77          132.90     1326.0          0.08474   \n",
       "2        19.69         21.25          130.00     1203.0          0.10960   \n",
       "3        11.42         20.38           77.58      386.1          0.14250   \n",
       "4        20.29         14.34          135.10     1297.0          0.10030   \n",
       "\n",
       "   mean compactness  mean concavity  mean concave points  mean symmetry  \\\n",
       "0           0.27760          0.3001              0.14710         0.2419   \n",
       "1           0.07864          0.0869              0.07017         0.1812   \n",
       "2           0.15990          0.1974              0.12790         0.2069   \n",
       "3           0.28390          0.2414              0.10520         0.2597   \n",
       "4           0.13280          0.1980              0.10430         0.1809   \n",
       "\n",
       "   mean fractal dimension           ...             worst radius  \\\n",
       "0                 0.07871           ...                    25.38   \n",
       "1                 0.05667           ...                    24.99   \n",
       "2                 0.05999           ...                    23.57   \n",
       "3                 0.09744           ...                    14.91   \n",
       "4                 0.05883           ...                    22.54   \n",
       "\n",
       "   worst texture  worst perimeter  worst area  worst smoothness  \\\n",
       "0          17.33           184.60      2019.0            0.1622   \n",
       "1          23.41           158.80      1956.0            0.1238   \n",
       "2          25.53           152.50      1709.0            0.1444   \n",
       "3          26.50            98.87       567.7            0.2098   \n",
       "4          16.67           152.20      1575.0            0.1374   \n",
       "\n",
       "   worst compactness  worst concavity  worst concave points  worst symmetry  \\\n",
       "0             0.6656           0.7119                0.2654          0.4601   \n",
       "1             0.1866           0.2416                0.1860          0.2750   \n",
       "2             0.4245           0.4504                0.2430          0.3613   \n",
       "3             0.8663           0.6869                0.2575          0.6638   \n",
       "4             0.2050           0.4000                0.1625          0.2364   \n",
       "\n",
       "   worst fractal dimension  \n",
       "0                  0.11890  \n",
       "1                  0.08902  \n",
       "2                  0.08758  \n",
       "3                  0.17300  \n",
       "4                  0.07678  \n",
       "\n",
       "[5 rows x 30 columns]"
      ]
     },
     "execution_count": 1,
     "metadata": {},
     "output_type": "execute_result"
    }
   ],
   "source": [
    "import sklearn.datasets as d\n",
    "import numpy as np\n",
    "import pandas as pd\n",
    "\n",
    "# breast_cancer 데이터 세트 로드\n",
    "dataset = d.load_breast_cancer()\n",
    "cancer = pd.DataFrame(data=dataset.data, columns=dataset.feature_names)\n",
    "cancer.head()"
   ]
  },
  {
   "cell_type": "code",
   "execution_count": 3,
   "id": "d3124c72",
   "metadata": {},
   "outputs": [
    {
     "name": "stdout",
     "output_type": "stream",
     "text": [
      "(569, 30) (569,)\n"
     ]
    }
   ],
   "source": [
    "X = np.array(dataset['data'])\n",
    "y = np.array(dataset['target'])\n",
    "\n",
    "print(np.shape(X), np.shape(y))"
   ]
  },
  {
   "cell_type": "code",
   "execution_count": 4,
   "id": "70789781",
   "metadata": {},
   "outputs": [
    {
     "name": "stdout",
     "output_type": "stream",
     "text": [
      "(398, 30) (171, 30) (398,) (171,)\n"
     ]
    }
   ],
   "source": [
    "import sklearn.model_selection as ms\n",
    "\n",
    "X_train, X_test, y_train, y_test = ms.train_test_split(X, y, test_size=0.3, random_state=100)\n",
    "\n",
    "print(np.shape(X_train), np.shape(X_test), np.shape(y_train), np.shape(y_test))"
   ]
  },
  {
   "cell_type": "code",
   "execution_count": 7,
   "id": "53f17988",
   "metadata": {},
   "outputs": [
    {
     "name": "stdout",
     "output_type": "stream",
     "text": [
      "0.9532163742690059\n"
     ]
    }
   ],
   "source": [
    "import sklearn.svm as svm\n",
    "import sklearn.metrics as mt\n",
    "\n",
    "svm_clf = svm.SVC(kernel='linear')\n",
    "svm_clf.fit(X_train, y_train)\n",
    "\n",
    "y_pred = svm_clf.predict(X_test)\n",
    "\n",
    "accuracy = mt.accuracy_score(y_test, y_pred)\n",
    "print(accuracy)"
   ]
  },
  {
   "cell_type": "markdown",
   "id": "cddb74bc",
   "metadata": {},
   "source": [
    "- ###  AND 게이트 구현\n",
    "    <br/>"
   ]
  },
  {
   "cell_type": "code",
   "execution_count": 8,
   "id": "264d70b2",
   "metadata": {},
   "outputs": [],
   "source": [
    "def AND(x1, x2):\n",
    "    w1, w2, theta = 0.5, 0.5, 0.7\n",
    "    tmp = w1*x1 + w2*x2\n",
    "    if tmp <= theta:\n",
    "        return 0\n",
    "    if tmp > theta:\n",
    "        return 1"
   ]
  },
  {
   "cell_type": "code",
   "execution_count": 9,
   "id": "6676760a",
   "metadata": {},
   "outputs": [
    {
     "data": {
      "text/plain": [
       "0"
      ]
     },
     "execution_count": 9,
     "metadata": {},
     "output_type": "execute_result"
    }
   ],
   "source": [
    "AND(0,0)"
   ]
  },
  {
   "cell_type": "code",
   "execution_count": 10,
   "id": "1ef31887",
   "metadata": {},
   "outputs": [
    {
     "data": {
      "text/plain": [
       "0"
      ]
     },
     "execution_count": 10,
     "metadata": {},
     "output_type": "execute_result"
    }
   ],
   "source": [
    "AND(0, 1)"
   ]
  },
  {
   "cell_type": "code",
   "execution_count": 11,
   "id": "7d0b52ca",
   "metadata": {},
   "outputs": [
    {
     "data": {
      "text/plain": [
       "0"
      ]
     },
     "execution_count": 11,
     "metadata": {},
     "output_type": "execute_result"
    }
   ],
   "source": [
    "AND(1, 0)"
   ]
  },
  {
   "cell_type": "code",
   "execution_count": 12,
   "id": "17af3b05",
   "metadata": {},
   "outputs": [
    {
     "data": {
      "text/plain": [
       "1"
      ]
     },
     "execution_count": 12,
     "metadata": {},
     "output_type": "execute_result"
    }
   ],
   "source": [
    "AND(1, 1)"
   ]
  },
  {
   "cell_type": "markdown",
   "id": "6e47b922",
   "metadata": {},
   "source": [
    "- ###  가중치와 편향 도입\n",
    "    - 편향(b)을 추가하여 NAND, OR 게이트 구현\n",
    "    <br/>"
   ]
  },
  {
   "cell_type": "code",
   "execution_count": 14,
   "id": "debaf9d4",
   "metadata": {},
   "outputs": [],
   "source": [
    "import numpy as np\n",
    "x = np.array([0, 1])\n",
    "w = np.array([0.5, 0.5])\n",
    "b = -0.7"
   ]
  },
  {
   "cell_type": "code",
   "execution_count": 15,
   "id": "4c8a4b2c",
   "metadata": {},
   "outputs": [
    {
     "data": {
      "text/plain": [
       "array([0. , 0.5])"
      ]
     },
     "execution_count": 15,
     "metadata": {},
     "output_type": "execute_result"
    }
   ],
   "source": [
    "w * x"
   ]
  },
  {
   "cell_type": "code",
   "execution_count": 16,
   "id": "677ab472",
   "metadata": {},
   "outputs": [
    {
     "data": {
      "text/plain": [
       "0.5"
      ]
     },
     "execution_count": 16,
     "metadata": {},
     "output_type": "execute_result"
    }
   ],
   "source": [
    "np.sum(w * x)"
   ]
  },
  {
   "cell_type": "code",
   "execution_count": 17,
   "id": "32d82dab",
   "metadata": {},
   "outputs": [
    {
     "data": {
      "text/plain": [
       "-0.19999999999999996"
      ]
     },
     "execution_count": 17,
     "metadata": {},
     "output_type": "execute_result"
    }
   ],
   "source": [
    "np.sum(w * x) + b"
   ]
  },
  {
   "cell_type": "code",
   "execution_count": 18,
   "id": "3a8eae8e",
   "metadata": {},
   "outputs": [
    {
     "name": "stdout",
     "output_type": "stream",
     "text": [
      "1 1 1 0\n"
     ]
    }
   ],
   "source": [
    "import numpy as np\n",
    "\n",
    "def NAND(x1, x2):\n",
    "    x = np.array([x1, x2])\n",
    "    w = np.array([-0.5, -0.5])\n",
    "    b = 0.7\n",
    "    tmp = np.sum(w * x) + b\n",
    "    if tmp <= 0:\n",
    "        return 0\n",
    "    else:\n",
    "        return 1\n",
    "    \n",
    "print(NAND(0, 0), NAND(0, 1), NAND(1, 0), NAND(1, 1))"
   ]
  },
  {
   "cell_type": "code",
   "execution_count": 19,
   "id": "72b88488",
   "metadata": {},
   "outputs": [
    {
     "name": "stdout",
     "output_type": "stream",
     "text": [
      "0 1 1 1\n"
     ]
    }
   ],
   "source": [
    "import numpy as np\n",
    "\n",
    "def OR(x1, x2):\n",
    "    x = np.array([x1, x2])\n",
    "    w = np.array([0.5, 0.5])\n",
    "    b = -0.2\n",
    "    tmp = np.sum(w * x) + b\n",
    "    if tmp <= 0:\n",
    "        return 0\n",
    "    else:\n",
    "        return 1\n",
    "    \n",
    "print(OR(0, 0), OR(0, 1), OR(1, 0), OR(1, 1))"
   ]
  },
  {
   "attachments": {
    "image.png": {
     "image/png": "[encoded data removed]"
    }
   },
   "cell_type": "markdown",
   "id": "2a755363",
   "metadata": {},
   "source": [
    "- ###  다층퍼셉트론\n",
    "    - AND, NAND, OR 게이트를 각각 1개씩 사용하여 XOR 게이트 구현\n",
    "![image.png](attachment:image.png)"
   ]
  },
  {
   "cell_type": "code",
   "execution_count": 20,
   "id": "dfa84ef5",
   "metadata": {},
   "outputs": [
    {
     "name": "stdout",
     "output_type": "stream",
     "text": [
      "0 1 1 0\n"
     ]
    }
   ],
   "source": [
    "import numpy as np\n",
    "\n",
    "def AND(x1, x2):\n",
    "    w1, w2, theta = 0.5, 0.5, 0.7\n",
    "    tmp = w1*x1 + w2*x2\n",
    "    if tmp <= theta:\n",
    "        return 0\n",
    "    if tmp > theta:\n",
    "        return 1\n",
    "    \n",
    "def NAND(x1, x2):\n",
    "    x = np.array([x1, x2])\n",
    "    w = np.array([-0.5, -0.5])\n",
    "    b = 0.7\n",
    "    tmp = np.sum(w * x) + b\n",
    "    if tmp <= 0:\n",
    "        return 0\n",
    "    else:\n",
    "        return 1\n",
    "    \n",
    "def OR(x1, x2):\n",
    "    x = np.array([x1, x2])\n",
    "    w = np.array([0.5, 0.5])\n",
    "    b = -0.2\n",
    "    tmp = np.sum(w * x) + b\n",
    "    if tmp <= 0:\n",
    "        return 0\n",
    "    else:\n",
    "        return 1\n",
    "    \n",
    "def XOR(x1, x2):\n",
    "    s1 = NAND(x1, x2)\n",
    "    s2 = OR(x1, x2)\n",
    "    y = AND(s1, s2)\n",
    "    return y\n",
    "\n",
    "print(XOR(0, 0), XOR(0, 1), XOR(1, 0), XOR(1, 1))"
   ]
  },
  {
   "attachments": {
    "image-2.png": {
     "image/png": "[encoded data removed]"
    }
   },
   "cell_type": "markdown",
   "id": "c63db0ca",
   "metadata": {},
   "source": [
    "- ###  활성화 함수\n",
    "    - Tanh 함수 : 실수 값을 입력 받아 0보다 클 때 1을 출력하고, 0보다 작을 때 -1을 출력하는 비선형 함수\n",
    "    - Sigmoid 함수 : 실수 값을 입력 받아 0보다 클 때 1을 출력하고, 0보다 작을 때 0을 출력하는 비선형 함수\n",
    "    - ReLU (rectified linear unit) 함수 : 입력값이 0을 넘으면 입력값 그대로 출력하고, 0 이하면 0으로 출력하는 비선형 함수\n",
    "![image-2.png](attachment:image-2.png)"
   ]
  },
  {
   "cell_type": "code",
   "execution_count": 27,
   "id": "d59ead77",
   "metadata": {},
   "outputs": [
    {
     "data": {
      "image/png": "[encoded data removed]",
      "text/plain": [
       "<Figure size 432x288 with 1 Axes>"
      ]
     },
     "metadata": {
      "needs_background": "light"
     },
     "output_type": "display_data"
    }
   ],
   "source": [
    "# Tanh function\n",
    "import numpy as np\n",
    "import matplotlib.pyplot as plt           # = import matplotlib.pylab as plt\n",
    "\n",
    "def tanh(x):\n",
    "    return (np.exp(x)-np.exp(-x))/(np.exp(x)+np.exp(-x))\n",
    "\n",
    "x = np.arange(-10.0, 10.0, 0.1)\n",
    "y = tanh(x)\n",
    "\n",
    "plt.plot(x, y)\n",
    "plt.ylim(-1.1, 1.1)\n",
    "plt.show()"
   ]
  },
  {
   "cell_type": "code",
   "execution_count": 28,
   "id": "68405c97",
   "metadata": {},
   "outputs": [
    {
     "data": {
      "image/png": "[encoded data removed]",
      "text/plain": [
       "<Figure size 432x288 with 1 Axes>"
      ]
     },
     "metadata": {
      "needs_background": "light"
     },
     "output_type": "display_data"
    }
   ],
   "source": [
    "# Sigmoid function\n",
    "import numpy as np\n",
    "import matplotlib.pyplot as plt           # = import matplotlib.pylab as plt\n",
    "\n",
    "def sigmoid(x):\n",
    "    return 1/(1+np.exp(-x))\n",
    "\n",
    "x = np.arange(-5.0, 5.0, 0.1)\n",
    "y = sigmoid(x)\n",
    "\n",
    "plt.plot(x, y)\n",
    "plt.ylim(-0.1, 1.1)\n",
    "plt.show()"
   ]
  },
  {
   "cell_type": "code",
   "execution_count": 29,
   "id": "b26d6917",
   "metadata": {},
   "outputs": [
    {
     "data": {
      "image/png": "[encoded data removed]",
      "text/plain": [
       "<Figure size 432x288 with 1 Axes>"
      ]
     },
     "metadata": {
      "needs_background": "light"
     },
     "output_type": "display_data"
    }
   ],
   "source": [
    "import numpy as np\n",
    "import matplotlib.pyplot as plt\n",
    "\n",
    "def relu(x):\n",
    "    return np.maximum(0, x)\n",
    "\n",
    "x = np.arange(-10.0, 10.0, 0.1)\n",
    "y = relu(x)\n",
    "\n",
    "plt.plot(x, y)\n",
    "plt.ylim(-1, 10.1)\n",
    "plt.show()"
   ]
  },
  {
   "cell_type": "markdown",
   "id": "7bb4d114",
   "metadata": {},
   "source": [
    "- ###  4-layered 퍼셉트론 실습"
   ]
  },
  {
   "cell_type": "code",
   "execution_count": 35,
   "id": "75a38522",
   "metadata": {
    "scrolled": true
   },
   "outputs": [
    {
     "name": "stdout",
     "output_type": "stream",
     "text": [
      "(569, 30) (569,)\n",
      "(398, 30) (171, 30) (398,) (171,)\n",
      "Epoch 1/200\n",
      "398/398 [==============================] - 0s 373us/step - loss: 26.3347 - accuracy: 0.4648\n",
      "Epoch 2/200\n",
      "398/398 [==============================] - 0s 353us/step - loss: 1.4147 - accuracy: 0.6834\n",
      "Epoch 3/200\n",
      "398/398 [==============================] - 0s 227us/step - loss: 0.4670 - accuracy: 0.8593\n",
      "Epoch 4/200\n",
      "398/398 [==============================] - 0s 201us/step - loss: 0.3454 - accuracy: 0.8920\n",
      "Epoch 5/200\n",
      "398/398 [==============================] - 0s 227us/step - loss: 0.3354 - accuracy: 0.8894\n",
      "Epoch 6/200\n",
      "398/398 [==============================] - 0s 174us/step - loss: 0.2931 - accuracy: 0.8920\n",
      "Epoch 7/200\n",
      "398/398 [==============================] - 0s 115us/step - loss: 0.2797 - accuracy: 0.8970\n",
      "Epoch 8/200\n",
      "398/398 [==============================] - 0s 155us/step - loss: 0.2591 - accuracy: 0.9146\n",
      "Epoch 9/200\n",
      "398/398 [==============================] - 0s 146us/step - loss: 0.2205 - accuracy: 0.9070\n",
      "Epoch 10/200\n",
      "398/398 [==============================] - 0s 277us/step - loss: 0.2385 - accuracy: 0.91460s - loss: 0.2663 - accuracy: 0.\n",
      "Epoch 11/200\n",
      "398/398 [==============================] - 0s 150us/step - loss: 0.2301 - accuracy: 0.9095\n",
      "Epoch 12/200\n",
      "398/398 [==============================] - 0s 145us/step - loss: 0.2193 - accuracy: 0.9121\n",
      "Epoch 13/200\n",
      "398/398 [==============================] - 0s 140us/step - loss: 0.2034 - accuracy: 0.9296\n",
      "Epoch 14/200\n",
      "398/398 [==============================] - 0s 125us/step - loss: 0.2424 - accuracy: 0.9045\n",
      "Epoch 15/200\n",
      "398/398 [==============================] - 0s 236us/step - loss: 0.2003 - accuracy: 0.9146\n",
      "Epoch 16/200\n",
      "398/398 [==============================] - 0s 145us/step - loss: 0.2158 - accuracy: 0.9070\n",
      "Epoch 17/200\n",
      "398/398 [==============================] - 0s 155us/step - loss: 0.2598 - accuracy: 0.9045\n",
      "Epoch 18/200\n",
      "398/398 [==============================] - 0s 152us/step - loss: 0.4079 - accuracy: 0.8568\n",
      "Epoch 19/200\n",
      "398/398 [==============================] - 0s 151us/step - loss: 0.1959 - accuracy: 0.9221\n",
      "Epoch 20/200\n",
      "398/398 [==============================] - 0s 220us/step - loss: 0.1861 - accuracy: 0.9146\n",
      "Epoch 21/200\n",
      "398/398 [==============================] - 0s 146us/step - loss: 0.2355 - accuracy: 0.9045\n",
      "Epoch 22/200\n",
      "398/398 [==============================] - 0s 168us/step - loss: 0.2032 - accuracy: 0.9196\n",
      "Epoch 23/200\n",
      "398/398 [==============================] - 0s 167us/step - loss: 0.2256 - accuracy: 0.9070\n",
      "Epoch 24/200\n",
      "398/398 [==============================] - 0s 170us/step - loss: 0.2208 - accuracy: 0.9045\n",
      "Epoch 25/200\n",
      "398/398 [==============================] - 0s 171us/step - loss: 0.1778 - accuracy: 0.9221\n",
      "Epoch 26/200\n",
      "398/398 [==============================] - 0s 181us/step - loss: 0.1788 - accuracy: 0.9322\n",
      "Epoch 27/200\n",
      "398/398 [==============================] - 0s 156us/step - loss: 0.1666 - accuracy: 0.9347\n",
      "Epoch 28/200\n",
      "398/398 [==============================] - 0s 166us/step - loss: 0.2075 - accuracy: 0.9171\n",
      "Epoch 29/200\n",
      "398/398 [==============================] - 0s 279us/step - loss: 0.2212 - accuracy: 0.8995\n",
      "Epoch 30/200\n",
      "398/398 [==============================] - 0s 161us/step - loss: 0.1902 - accuracy: 0.9121\n",
      "Epoch 31/200\n",
      "398/398 [==============================] - 0s 208us/step - loss: 0.2131 - accuracy: 0.9146\n",
      "Epoch 32/200\n",
      "398/398 [==============================] - 0s 178us/step - loss: 0.1800 - accuracy: 0.9246\n",
      "Epoch 33/200\n",
      "398/398 [==============================] - 0s 195us/step - loss: 0.1915 - accuracy: 0.9171\n",
      "Epoch 34/200\n",
      "398/398 [==============================] - 0s 160us/step - loss: 0.2447 - accuracy: 0.8995\n",
      "Epoch 35/200\n",
      "398/398 [==============================] - 0s 166us/step - loss: 0.2008 - accuracy: 0.9171\n",
      "Epoch 36/200\n",
      "398/398 [==============================] - 0s 185us/step - loss: 0.1791 - accuracy: 0.9422\n",
      "Epoch 37/200\n",
      "398/398 [==============================] - 0s 160us/step - loss: 0.2145 - accuracy: 0.9070\n",
      "Epoch 38/200\n",
      "398/398 [==============================] - 0s 151us/step - loss: 0.1724 - accuracy: 0.9271\n",
      "Epoch 39/200\n",
      "398/398 [==============================] - 0s 169us/step - loss: 0.1573 - accuracy: 0.9271\n",
      "Epoch 40/200\n",
      "398/398 [==============================] - 0s 196us/step - loss: 0.1752 - accuracy: 0.9271\n",
      "Epoch 41/200\n",
      "398/398 [==============================] - 0s 167us/step - loss: 0.1746 - accuracy: 0.9322\n",
      "Epoch 42/200\n",
      "398/398 [==============================] - 0s 147us/step - loss: 0.1810 - accuracy: 0.9322\n",
      "Epoch 43/200\n",
      "398/398 [==============================] - 0s 181us/step - loss: 0.2541 - accuracy: 0.9020\n",
      "Epoch 44/200\n",
      "398/398 [==============================] - 0s 167us/step - loss: 0.2960 - accuracy: 0.8995\n",
      "Epoch 45/200\n",
      "398/398 [==============================] - 0s 161us/step - loss: 0.1734 - accuracy: 0.9322\n",
      "Epoch 46/200\n",
      "398/398 [==============================] - 0s 195us/step - loss: 0.1577 - accuracy: 0.9372\n",
      "Epoch 47/200\n",
      "398/398 [==============================] - 0s 169us/step - loss: 0.1805 - accuracy: 0.9296\n",
      "Epoch 48/200\n",
      "398/398 [==============================] - 0s 226us/step - loss: 0.1524 - accuracy: 0.9372\n",
      "Epoch 49/200\n",
      "398/398 [==============================] - 0s 173us/step - loss: 0.2933 - accuracy: 0.9020\n",
      "Epoch 50/200\n",
      "398/398 [==============================] - 0s 160us/step - loss: 0.2158 - accuracy: 0.9171\n",
      "Epoch 51/200\n",
      "398/398 [==============================] - 0s 159us/step - loss: 0.1894 - accuracy: 0.9246\n",
      "Epoch 52/200\n",
      "398/398 [==============================] - 0s 267us/step - loss: 0.2007 - accuracy: 0.9347\n",
      "Epoch 53/200\n",
      "398/398 [==============================] - 0s 176us/step - loss: 0.1851 - accuracy: 0.9347\n",
      "Epoch 54/200\n",
      "398/398 [==============================] - 0s 158us/step - loss: 0.1797 - accuracy: 0.9347\n",
      "Epoch 55/200\n",
      "398/398 [==============================] - 0s 155us/step - loss: 0.2089 - accuracy: 0.9246\n",
      "Epoch 56/200\n",
      "398/398 [==============================] - 0s 125us/step - loss: 0.3554 - accuracy: 0.8945\n",
      "Epoch 57/200\n",
      "398/398 [==============================] - 0s 120us/step - loss: 0.1622 - accuracy: 0.9271\n",
      "Epoch 58/200\n",
      "398/398 [==============================] - 0s 118us/step - loss: 0.1487 - accuracy: 0.9497\n",
      "Epoch 59/200\n",
      "398/398 [==============================] - 0s 160us/step - loss: 0.1450 - accuracy: 0.9397\n",
      "Epoch 60/200\n",
      "398/398 [==============================] - 0s 165us/step - loss: 0.1815 - accuracy: 0.9246\n",
      "Epoch 61/200\n",
      "398/398 [==============================] - 0s 157us/step - loss: 0.1603 - accuracy: 0.9447\n",
      "Epoch 62/200\n",
      "398/398 [==============================] - 0s 189us/step - loss: 0.1749 - accuracy: 0.9372\n",
      "Epoch 63/200\n",
      "398/398 [==============================] - 0s 161us/step - loss: 0.2062 - accuracy: 0.9397\n",
      "Epoch 64/200\n",
      "398/398 [==============================] - 0s 165us/step - loss: 0.1989 - accuracy: 0.9095\n",
      "Epoch 65/200\n",
      "398/398 [==============================] - 0s 167us/step - loss: 0.1510 - accuracy: 0.9447\n",
      "Epoch 66/200\n",
      "398/398 [==============================] - 0s 203us/step - loss: 0.2041 - accuracy: 0.9246\n",
      "Epoch 67/200\n",
      "398/398 [==============================] - 0s 206us/step - loss: 0.3386 - accuracy: 0.8869\n",
      "Epoch 68/200\n",
      "398/398 [==============================] - 0s 157us/step - loss: 0.2084 - accuracy: 0.9246\n",
      "Epoch 69/200\n",
      "398/398 [==============================] - 0s 156us/step - loss: 0.1748 - accuracy: 0.9271\n",
      "Epoch 70/200\n",
      "398/398 [==============================] - 0s 152us/step - loss: 0.1346 - accuracy: 0.9422\n",
      "Epoch 71/200\n",
      "398/398 [==============================] - 0s 140us/step - loss: 0.1601 - accuracy: 0.9397\n",
      "Epoch 72/200\n",
      "398/398 [==============================] - 0s 177us/step - loss: 0.1781 - accuracy: 0.9397\n",
      "Epoch 73/200\n",
      "398/398 [==============================] - 0s 175us/step - loss: 0.2040 - accuracy: 0.9296\n",
      "Epoch 74/200\n",
      "398/398 [==============================] - 0s 159us/step - loss: 0.1688 - accuracy: 0.9397\n",
      "Epoch 75/200\n",
      "398/398 [==============================] - 0s 173us/step - loss: 0.1233 - accuracy: 0.9523\n",
      "Epoch 76/200\n",
      "398/398 [==============================] - 0s 147us/step - loss: 0.1555 - accuracy: 0.9271\n",
      "Epoch 77/200\n",
      "398/398 [==============================] - 0s 179us/step - loss: 0.2334 - accuracy: 0.9045\n",
      "Epoch 78/200\n",
      "398/398 [==============================] - 0s 172us/step - loss: 0.1645 - accuracy: 0.9271\n",
      "Epoch 79/200\n"
     ]
    },
    {
     "name": "stdout",
     "output_type": "stream",
     "text": [
      "398/398 [==============================] - 0s 178us/step - loss: 0.1624 - accuracy: 0.9447\n",
      "Epoch 80/200\n",
      "398/398 [==============================] - 0s 163us/step - loss: 0.1437 - accuracy: 0.9372\n",
      "Epoch 81/200\n",
      "398/398 [==============================] - 0s 110us/step - loss: 0.1347 - accuracy: 0.9472\n",
      "Epoch 82/200\n",
      "398/398 [==============================] - 0s 148us/step - loss: 0.1608 - accuracy: 0.9397\n",
      "Epoch 83/200\n",
      "398/398 [==============================] - 0s 174us/step - loss: 0.1558 - accuracy: 0.9347\n",
      "Epoch 84/200\n",
      "398/398 [==============================] - 0s 167us/step - loss: 0.1556 - accuracy: 0.9372\n",
      "Epoch 85/200\n",
      "398/398 [==============================] - 0s 168us/step - loss: 0.1261 - accuracy: 0.9422\n",
      "Epoch 86/200\n",
      "398/398 [==============================] - 0s 155us/step - loss: 0.1708 - accuracy: 0.9271\n",
      "Epoch 87/200\n",
      "398/398 [==============================] - 0s 216us/step - loss: 0.1290 - accuracy: 0.9548\n",
      "Epoch 88/200\n",
      "398/398 [==============================] - 0s 158us/step - loss: 0.1258 - accuracy: 0.9523\n",
      "Epoch 89/200\n",
      "398/398 [==============================] - 0s 167us/step - loss: 0.1800 - accuracy: 0.9322\n",
      "Epoch 90/200\n",
      "398/398 [==============================] - 0s 210us/step - loss: 0.2897 - accuracy: 0.8995\n",
      "Epoch 91/200\n",
      "398/398 [==============================] - 0s 211us/step - loss: 0.1406 - accuracy: 0.9573\n",
      "Epoch 92/200\n",
      "398/398 [==============================] - 0s 163us/step - loss: 0.1609 - accuracy: 0.9422\n",
      "Epoch 93/200\n",
      "398/398 [==============================] - 0s 162us/step - loss: 0.1640 - accuracy: 0.9296\n",
      "Epoch 94/200\n",
      "398/398 [==============================] - 0s 195us/step - loss: 0.1688 - accuracy: 0.9447\n",
      "Epoch 95/200\n",
      "398/398 [==============================] - 0s 188us/step - loss: 0.1424 - accuracy: 0.9397\n",
      "Epoch 96/200\n",
      "398/398 [==============================] - 0s 204us/step - loss: 0.1253 - accuracy: 0.9573\n",
      "Epoch 97/200\n",
      "398/398 [==============================] - 0s 160us/step - loss: 0.1439 - accuracy: 0.9422\n",
      "Epoch 98/200\n",
      "398/398 [==============================] - 0s 172us/step - loss: 0.1256 - accuracy: 0.9372\n",
      "Epoch 99/200\n",
      "398/398 [==============================] - 0s 166us/step - loss: 0.1457 - accuracy: 0.9422\n",
      "Epoch 100/200\n",
      "398/398 [==============================] - 0s 217us/step - loss: 0.1890 - accuracy: 0.9271\n",
      "Epoch 101/200\n",
      "398/398 [==============================] - 0s 156us/step - loss: 0.1183 - accuracy: 0.9523\n",
      "Epoch 102/200\n",
      "398/398 [==============================] - 0s 169us/step - loss: 0.1627 - accuracy: 0.9347\n",
      "Epoch 103/200\n",
      "398/398 [==============================] - 0s 162us/step - loss: 0.1199 - accuracy: 0.9472\n",
      "Epoch 104/200\n",
      "398/398 [==============================] - 0s 165us/step - loss: 0.2724 - accuracy: 0.9095\n",
      "Epoch 105/200\n",
      "398/398 [==============================] - 0s 215us/step - loss: 0.1634 - accuracy: 0.9372\n",
      "Epoch 106/200\n",
      "398/398 [==============================] - 0s 163us/step - loss: 0.2064 - accuracy: 0.9171\n",
      "Epoch 107/200\n",
      "398/398 [==============================] - 0s 170us/step - loss: 0.1529 - accuracy: 0.9472\n",
      "Epoch 108/200\n",
      "398/398 [==============================] - 0s 149us/step - loss: 0.1941 - accuracy: 0.9271\n",
      "Epoch 109/200\n",
      "398/398 [==============================] - 0s 180us/step - loss: 0.2264 - accuracy: 0.9196\n",
      "Epoch 110/200\n",
      "398/398 [==============================] - 0s 164us/step - loss: 0.1169 - accuracy: 0.9523\n",
      "Epoch 111/200\n",
      "398/398 [==============================] - 0s 167us/step - loss: 0.1137 - accuracy: 0.9548\n",
      "Epoch 112/200\n",
      "398/398 [==============================] - 0s 159us/step - loss: 0.1181 - accuracy: 0.9523\n",
      "Epoch 113/200\n",
      "398/398 [==============================] - 0s 171us/step - loss: 0.1751 - accuracy: 0.9422\n",
      "Epoch 114/200\n",
      "398/398 [==============================] - 0s 167us/step - loss: 0.1195 - accuracy: 0.9497\n",
      "Epoch 115/200\n",
      "398/398 [==============================] - 0s 179us/step - loss: 0.1442 - accuracy: 0.9347\n",
      "Epoch 116/200\n",
      "398/398 [==============================] - 0s 164us/step - loss: 0.1099 - accuracy: 0.9497\n",
      "Epoch 117/200\n",
      "398/398 [==============================] - 0s 182us/step - loss: 0.1183 - accuracy: 0.9523\n",
      "Epoch 118/200\n",
      "398/398 [==============================] - 0s 154us/step - loss: 0.2601 - accuracy: 0.9196\n",
      "Epoch 119/200\n",
      "398/398 [==============================] - 0s 167us/step - loss: 0.2106 - accuracy: 0.9070\n",
      "Epoch 120/200\n",
      "398/398 [==============================] - 0s 174us/step - loss: 0.1163 - accuracy: 0.9598\n",
      "Epoch 121/200\n",
      "398/398 [==============================] - 0s 156us/step - loss: 0.1409 - accuracy: 0.9497\n",
      "Epoch 122/200\n",
      "398/398 [==============================] - 0s 223us/step - loss: 0.1048 - accuracy: 0.9573\n",
      "Epoch 123/200\n",
      "398/398 [==============================] - 0s 217us/step - loss: 0.1303 - accuracy: 0.9447\n",
      "Epoch 124/200\n",
      "398/398 [==============================] - 0s 166us/step - loss: 0.1628 - accuracy: 0.9372\n",
      "Epoch 125/200\n",
      "398/398 [==============================] - 0s 166us/step - loss: 0.1248 - accuracy: 0.9523\n",
      "Epoch 126/200\n",
      "398/398 [==============================] - 0s 205us/step - loss: 0.1085 - accuracy: 0.9548\n",
      "Epoch 127/200\n",
      "398/398 [==============================] - 0s 163us/step - loss: 0.1268 - accuracy: 0.9372\n",
      "Epoch 128/200\n",
      "398/398 [==============================] - 0s 137us/step - loss: 0.2357 - accuracy: 0.9171\n",
      "Epoch 129/200\n",
      "398/398 [==============================] - 0s 144us/step - loss: 0.1499 - accuracy: 0.9322\n",
      "Epoch 130/200\n",
      "398/398 [==============================] - 0s 204us/step - loss: 0.1364 - accuracy: 0.9422\n",
      "Epoch 131/200\n",
      "398/398 [==============================] - 0s 171us/step - loss: 0.1559 - accuracy: 0.9347\n",
      "Epoch 132/200\n",
      "398/398 [==============================] - 0s 150us/step - loss: 0.1584 - accuracy: 0.9322\n",
      "Epoch 133/200\n",
      "398/398 [==============================] - 0s 202us/step - loss: 0.1027 - accuracy: 0.9598\n",
      "Epoch 134/200\n",
      "398/398 [==============================] - 0s 170us/step - loss: 0.1480 - accuracy: 0.9472\n",
      "Epoch 135/200\n",
      "398/398 [==============================] - 0s 165us/step - loss: 0.2780 - accuracy: 0.9171\n",
      "Epoch 136/200\n",
      "398/398 [==============================] - 0s 170us/step - loss: 0.1619 - accuracy: 0.9422\n",
      "Epoch 137/200\n",
      "398/398 [==============================] - 0s 165us/step - loss: 0.1859 - accuracy: 0.9322\n",
      "Epoch 138/200\n",
      "398/398 [==============================] - 0s 166us/step - loss: 0.1902 - accuracy: 0.9221\n",
      "Epoch 139/200\n",
      "398/398 [==============================] - 0s 170us/step - loss: 0.1118 - accuracy: 0.9497\n",
      "Epoch 140/200\n",
      "398/398 [==============================] - 0s 173us/step - loss: 0.1146 - accuracy: 0.9573\n",
      "Epoch 141/200\n",
      "398/398 [==============================] - 0s 187us/step - loss: 0.1106 - accuracy: 0.9523\n",
      "Epoch 142/200\n",
      "398/398 [==============================] - 0s 140us/step - loss: 0.1457 - accuracy: 0.9447\n",
      "Epoch 143/200\n",
      "398/398 [==============================] - 0s 170us/step - loss: 0.1333 - accuracy: 0.9447\n",
      "Epoch 144/200\n",
      "398/398 [==============================] - 0s 190us/step - loss: 0.1496 - accuracy: 0.9497\n",
      "Epoch 145/200\n",
      "398/398 [==============================] - 0s 139us/step - loss: 0.1664 - accuracy: 0.9347\n",
      "Epoch 146/200\n",
      "398/398 [==============================] - 0s 194us/step - loss: 0.1401 - accuracy: 0.9372\n",
      "Epoch 147/200\n",
      "398/398 [==============================] - 0s 88us/step - loss: 0.1182 - accuracy: 0.9573\n",
      "Epoch 148/200\n",
      "398/398 [==============================] - 0s 178us/step - loss: 0.0999 - accuracy: 0.9523\n",
      "Epoch 149/200\n",
      "398/398 [==============================] - 0s 142us/step - loss: 0.1339 - accuracy: 0.9523\n",
      "Epoch 150/200\n",
      "398/398 [==============================] - 0s 182us/step - loss: 0.1113 - accuracy: 0.9573\n",
      "Epoch 151/200\n",
      "398/398 [==============================] - 0s 174us/step - loss: 0.0904 - accuracy: 0.9623\n",
      "Epoch 152/200\n",
      "398/398 [==============================] - 0s 158us/step - loss: 0.1264 - accuracy: 0.9397\n",
      "Epoch 153/200\n",
      "398/398 [==============================] - 0s 195us/step - loss: 0.1500 - accuracy: 0.9422\n",
      "Epoch 154/200\n",
      "398/398 [==============================] - 0s 172us/step - loss: 0.1118 - accuracy: 0.9472\n",
      "Epoch 155/200\n",
      "398/398 [==============================] - 0s 161us/step - loss: 0.1014 - accuracy: 0.9598\n",
      "Epoch 156/200\n",
      "398/398 [==============================] - 0s 148us/step - loss: 0.1275 - accuracy: 0.9623\n",
      "Epoch 157/200\n"
     ]
    },
    {
     "name": "stdout",
     "output_type": "stream",
     "text": [
      "398/398 [==============================] - 0s 92us/step - loss: 0.1263 - accuracy: 0.9447\n",
      "Epoch 158/200\n",
      "398/398 [==============================] - 0s 126us/step - loss: 0.1215 - accuracy: 0.9573\n",
      "Epoch 159/200\n",
      "398/398 [==============================] - 0s 120us/step - loss: 0.1057 - accuracy: 0.9548\n",
      "Epoch 160/200\n",
      "398/398 [==============================] - 0s 101us/step - loss: 0.1017 - accuracy: 0.9548\n",
      "Epoch 161/200\n",
      "398/398 [==============================] - 0s 99us/step - loss: 0.1559 - accuracy: 0.9296\n",
      "Epoch 162/200\n",
      "398/398 [==============================] - 0s 132us/step - loss: 0.4511 - accuracy: 0.8618\n",
      "Epoch 163/200\n",
      "398/398 [==============================] - 0s 172us/step - loss: 0.1767 - accuracy: 0.9397\n",
      "Epoch 164/200\n",
      "398/398 [==============================] - 0s 204us/step - loss: 0.1673 - accuracy: 0.9372\n",
      "Epoch 165/200\n",
      "398/398 [==============================] - 0s 174us/step - loss: 0.2349 - accuracy: 0.9246\n",
      "Epoch 166/200\n",
      "398/398 [==============================] - 0s 134us/step - loss: 0.2607 - accuracy: 0.9171\n",
      "Epoch 167/200\n",
      "398/398 [==============================] - 0s 178us/step - loss: 0.2903 - accuracy: 0.8920\n",
      "Epoch 168/200\n",
      "398/398 [==============================] - 0s 197us/step - loss: 0.1448 - accuracy: 0.9472\n",
      "Epoch 169/200\n",
      "398/398 [==============================] - 0s 161us/step - loss: 0.1863 - accuracy: 0.9447\n",
      "Epoch 170/200\n",
      "398/398 [==============================] - 0s 172us/step - loss: 0.1671 - accuracy: 0.9422\n",
      "Epoch 171/200\n",
      "398/398 [==============================] - 0s 165us/step - loss: 0.1310 - accuracy: 0.9472\n",
      "Epoch 172/200\n",
      "398/398 [==============================] - 0s 153us/step - loss: 0.1575 - accuracy: 0.9372\n",
      "Epoch 173/200\n",
      "398/398 [==============================] - 0s 179us/step - loss: 0.1528 - accuracy: 0.9497\n",
      "Epoch 174/200\n",
      "398/398 [==============================] - 0s 170us/step - loss: 0.1542 - accuracy: 0.9447\n",
      "Epoch 175/200\n",
      "398/398 [==============================] - 0s 164us/step - loss: 0.1377 - accuracy: 0.9497\n",
      "Epoch 176/200\n",
      "398/398 [==============================] - 0s 166us/step - loss: 0.1035 - accuracy: 0.9598\n",
      "Epoch 177/200\n",
      "398/398 [==============================] - 0s 168us/step - loss: 0.1974 - accuracy: 0.9246\n",
      "Epoch 178/200\n",
      "398/398 [==============================] - 0s 126us/step - loss: 0.1289 - accuracy: 0.9523\n",
      "Epoch 179/200\n",
      "398/398 [==============================] - 0s 127us/step - loss: 0.1934 - accuracy: 0.9296\n",
      "Epoch 180/200\n",
      "398/398 [==============================] - 0s 111us/step - loss: 0.1259 - accuracy: 0.9523\n",
      "Epoch 181/200\n",
      "398/398 [==============================] - 0s 95us/step - loss: 0.1334 - accuracy: 0.9523\n",
      "Epoch 182/200\n",
      "398/398 [==============================] - 0s 157us/step - loss: 0.1035 - accuracy: 0.9523\n",
      "Epoch 183/200\n",
      "398/398 [==============================] - 0s 182us/step - loss: 0.1108 - accuracy: 0.9523\n",
      "Epoch 184/200\n",
      "398/398 [==============================] - 0s 186us/step - loss: 0.1298 - accuracy: 0.9497\n",
      "Epoch 185/200\n",
      "398/398 [==============================] - 0s 170us/step - loss: 0.1135 - accuracy: 0.9598\n",
      "Epoch 186/200\n",
      "398/398 [==============================] - 0s 173us/step - loss: 0.1243 - accuracy: 0.9472\n",
      "Epoch 187/200\n",
      "398/398 [==============================] - 0s 160us/step - loss: 0.1287 - accuracy: 0.9573\n",
      "Epoch 188/200\n",
      "398/398 [==============================] - 0s 157us/step - loss: 0.1136 - accuracy: 0.9447\n",
      "Epoch 189/200\n",
      "398/398 [==============================] - 0s 204us/step - loss: 0.1476 - accuracy: 0.9523\n",
      "Epoch 190/200\n",
      "398/398 [==============================] - 0s 191us/step - loss: 0.2115 - accuracy: 0.9271\n",
      "Epoch 191/200\n",
      "398/398 [==============================] - 0s 167us/step - loss: 0.1632 - accuracy: 0.9472\n",
      "Epoch 192/200\n",
      "398/398 [==============================] - 0s 157us/step - loss: 0.2618 - accuracy: 0.9095\n",
      "Epoch 193/200\n",
      "398/398 [==============================] - 0s 265us/step - loss: 0.1099 - accuracy: 0.9523\n",
      "Epoch 194/200\n",
      "398/398 [==============================] - 0s 203us/step - loss: 0.1107 - accuracy: 0.9573\n",
      "Epoch 195/200\n",
      "398/398 [==============================] - 0s 205us/step - loss: 0.1187 - accuracy: 0.9598\n",
      "Epoch 196/200\n",
      "398/398 [==============================] - 0s 182us/step - loss: 0.1187 - accuracy: 0.9598\n",
      "Epoch 197/200\n",
      "398/398 [==============================] - 0s 326us/step - loss: 0.1129 - accuracy: 0.9573\n",
      "Epoch 198/200\n",
      "398/398 [==============================] - 0s 183us/step - loss: 0.1161 - accuracy: 0.9472\n",
      "Epoch 199/200\n",
      "398/398 [==============================] - 0s 164us/step - loss: 0.1010 - accuracy: 0.9548\n",
      "Epoch 200/200\n",
      "398/398 [==============================] - 0s 157us/step - loss: 0.1721 - accuracy: 0.9447\n",
      "171/171 [==============================] - 0s 180us/step\n",
      "\n",
      " acc : 0.9181\n"
     ]
    }
   ],
   "source": [
    "import sklearn.datasets as d\n",
    "import numpy as np\n",
    "import pandas as pd\n",
    "\n",
    "# breast_cancer 데이터 세트 로드\n",
    "dataset = d.load_breast_cancer()\n",
    "cancer = pd.DataFrame(data=dataset.data, columns=dataset.feature_names)\n",
    "cancer.head()\n",
    "\n",
    "X = np.array(dataset['data'])\n",
    "y = np.array(dataset['target'])\n",
    "\n",
    "print(np.shape(X), np.shape(y))\n",
    "\n",
    "import sklearn.model_selection as ms\n",
    "\n",
    "X_train, X_test, y_train, y_test = ms.train_test_split(X, y, test_size=0.3, random_state=100)\n",
    "\n",
    "print(np.shape(X_train), np.shape(X_test), np.shape(y_train), np.shape(y_test))\n",
    "\n",
    "from keras.models import Sequential\n",
    "from keras.layers import Dense\n",
    "\n",
    "model = Sequential()\n",
    "model.add(Dense(12, input_dim=30, activation='relu'))\n",
    "model.add(Dense(8, activation='relu'))\n",
    "model.add(Dense(1, activation='sigmoid'))\n",
    "\n",
    "model.compile(loss='binary_crossentropy', optimizer='adam', metrics=['accuracy'])\n",
    "\n",
    "model.fit(X_train, y_train, epochs=200, batch_size=10)\n",
    "\n",
    "acc = model.evaluate(X_test, y_test)[1]\n",
    "print('\\n acc : %.4f' % acc)"
   ]
  }
 ],
 "metadata": {
  "kernelspec": {
   "display_name": "py_365",
   "language": "python",
   "name": "py_365"
  },
  "language_info": {
   "codemirror_mode": {
    "name": "ipython",
    "version": 3
   },
   "file_extension": ".py",
   "mimetype": "text/x-python",
   "name": "python",
   "nbconvert_exporter": "python",
   "pygments_lexer": "ipython3",
   "version": "3.6.5"
  }
 },
 "nbformat": 4,
 "nbformat_minor": 5
}
