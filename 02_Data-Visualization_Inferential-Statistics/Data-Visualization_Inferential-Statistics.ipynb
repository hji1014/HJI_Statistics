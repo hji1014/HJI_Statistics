{
 "cells": [
  {
   "cell_type": "markdown",
   "id": "764a0f26",
   "metadata": {},
   "source": [
    "## [Data-Visualization_Inferential-Statistics]\n",
    "<br/>\n",
    "\n",
    "- Pandas의 df 데이터 주요 지표 확인\n",
    "    - pd.Series(df명).describe()\n",
    "    - 주요 지표 : 데이터 수, 평균, 표준편차, 최소값, Q1~Q3, 최대값, 데이터 타입\n",
    "    <br/><br/>\n",
    "\n",
    "- 1차원 데이터 시각화 방법 : 도수분포표\n",
    "    - np.histogram(Numpy배열, bins=?, range=(?, ?))\n",
    "    * 리스트 내부에서 for문 사용하는 방법 >>> freq_class = [f'{i}~{i+10}' for i in range(0, 100, 10)]\n",
    "    <br/><br/>\n",
    "    \n",
    "- 계급값, 상대도수 누적상대도수 구하기\n",
    "    1. 계급값 >>> class_value = [(i+(i+10))//2 for i in range(0, 100, 10)]\n",
    "    2. 상대도수 >>> rel_freq = freq / np.sum(freq)\n",
    "    3. 누적상대도수 >>> np.cumsum(rel_freq)\n",
    "    <br/><br/>\n",
    "\n",
    "- 기존 DataFrame에 새로운 열 추가\n",
    "    - freq_dist_df['class value'] = class_value\n",
    "    - freq_dist_df['rel_freq'] = rel_freq\n",
    "    - freq_dist_df['cum_rel_freq'] = cum_rel_freq\n",
    "    * 열의 순서 정하기 >>> freq_dist_df = freq_dist_df[['class value', 'frequency', 'rel_freq', 'cum_rel_freq']]\n",
    "    <br/><br/>\n",
    "\n",
    "- Matplotlib 사용하여 그래프 그리기\n",
    "    - import matplotlib.pyplot as plt\n",
    "    - figure = plt.figure\n",
    "    - fig = plt.figure(figsize=(10, 6))\n",
    "    - ax = fig.add_subplot(111)\n",
    "    - ...\n",
    "    - ax.hlines(prob, np.arange(1, 7), np.arange(2, 8), colors='gray')\n",
    "    - ax.set_xticks(np.linspace(1.5, 6.5, 6))\n",
    "    - ax.set_xticklabels(np.arange(1, 7))\n",
    "    - ax.set_xlabel('dice')\n",
    "    - ax.set_ylabel('relative frequency')\n",
    "    - plt.show()\n",
    "    <br/><br/>\n",
    "\n",
    "- 1차원 데이터 시각화 방법 : 히스토그램\n",
    "    - freq, _, _ = ax.hist(english_scores, bins=10, range=(0, 100))\n",
    "    <br/><br/>\n",
    "\n",
    "- 2차원 데이터 시각화 방법 : 산점도\n",
    "    - ax.scatter(english_scores, math_scores)\n",
    "    <br/><br/>\n",
    "    \n",
    "- 2차원 데이터 시각화 방법 : 히트맵\n",
    "    - c = ax.hist2d(english_scores, math_scores, bins=[9, 8], range=[(35, 80), (55, 95)])\n",
    "    - ax.set_xlabel('english')\n",
    "    - ax.set_ylabel('mathematics')\n",
    "    - ax.set_xticks(c[1])\n",
    "    - ax.set_yticks(c[2])\n",
    "    - fig.colorbar(c[3], ax=ax)\n",
    "    <br/><br/>"
   ]
  },
  {
   "cell_type": "code",
   "execution_count": 13,
   "id": "e5ee42d2",
   "metadata": {
    "scrolled": true
   },
   "outputs": [
    {
     "name": "stdout",
     "output_type": "stream",
     "text": [
      "(50, 2) 50\n"
     ]
    }
   ],
   "source": [
    "# 데이터 불러오기\n",
    "import pandas as pd\n",
    "import numpy as np\n",
    "\n",
    "df = pd.read_csv('C:/Users/User/Jupyter/statistical_analysis/data/ch2_scores_em.csv', index_col = 'student number')\n",
    "\n",
    "df\n",
    "# df.head()\n",
    "\n",
    "print(df.shape, len(df))"
   ]
  },
  {
   "cell_type": "code",
   "execution_count": 21,
   "id": "c8afa5b4",
   "metadata": {},
   "outputs": [
    {
     "data": {
      "text/plain": [
       "(50,)"
      ]
     },
     "execution_count": 21,
     "metadata": {},
     "output_type": "execute_result"
    }
   ],
   "source": [
    "english_scores = np.array(df['english'])\n",
    "np.shape(english_scores)"
   ]
  },
  {
   "cell_type": "code",
   "execution_count": 37,
   "id": "24703490",
   "metadata": {},
   "outputs": [
    {
     "data": {
      "text/plain": [
       "count    50.000000\n",
       "mean     58.380000\n",
       "std       9.799813\n",
       "min      37.000000\n",
       "25%      54.000000\n",
       "50%      57.500000\n",
       "75%      65.000000\n",
       "max      79.000000\n",
       "dtype: float64"
      ]
     },
     "execution_count": 37,
     "metadata": {},
     "output_type": "execute_result"
    }
   ],
   "source": [
    "# 데이터의 주요 지표 확인\n",
    "\n",
    "pd.Series(english_scores).describe()"
   ]
  },
  {
   "cell_type": "code",
   "execution_count": 24,
   "id": "0ab3481d",
   "metadata": {},
   "outputs": [
    {
     "name": "stdout",
     "output_type": "stream",
     "text": [
      "[ 0  0  0  2  8 16 18  6  0  0]\n"
     ]
    }
   ],
   "source": [
    "# 도수분포표\n",
    "\n",
    "freq, _ = np.histogram(english_scores, bins=10, range=(0, 100))\n",
    "print(freq)"
   ]
  },
  {
   "cell_type": "code",
   "execution_count": 38,
   "id": "4297f248",
   "metadata": {},
   "outputs": [
    {
     "name": "stdout",
     "output_type": "stream",
     "text": [
      "['0~10', '10~20', '20~30', '30~40', '40~50', '50~60', '60~70', '70~80', '80~90', '90~100']\n"
     ]
    }
   ],
   "source": [
    "freq_class = [f'{i}~{i+10}' for i in range(0, 100, 10)]\n",
    "print(freq_class)"
   ]
  },
  {
   "cell_type": "code",
   "execution_count": 32,
   "id": "01aa78cb",
   "metadata": {
    "scrolled": true
   },
   "outputs": [],
   "source": [
    "freq_dist_df = pd.DataFrame({'frequency':freq}, index=pd.Index(freq_class, name='class'))"
   ]
  },
  {
   "cell_type": "code",
   "execution_count": 35,
   "id": "f420a779",
   "metadata": {},
   "outputs": [
    {
     "data": {
      "text/html": [
       "<div>\n",
       "<style scoped>\n",
       "    .dataframe tbody tr th:only-of-type {\n",
       "        vertical-align: middle;\n",
       "    }\n",
       "\n",
       "    .dataframe tbody tr th {\n",
       "        vertical-align: top;\n",
       "    }\n",
       "\n",
       "    .dataframe thead th {\n",
       "        text-align: right;\n",
       "    }\n",
       "</style>\n",
       "<table border=\"1\" class=\"dataframe\">\n",
       "  <thead>\n",
       "    <tr style=\"text-align: right;\">\n",
       "      <th></th>\n",
       "      <th>frequency</th>\n",
       "    </tr>\n",
       "    <tr>\n",
       "      <th>class</th>\n",
       "      <th></th>\n",
       "    </tr>\n",
       "  </thead>\n",
       "  <tbody>\n",
       "    <tr>\n",
       "      <th>0~10</th>\n",
       "      <td>0</td>\n",
       "    </tr>\n",
       "    <tr>\n",
       "      <th>10~20</th>\n",
       "      <td>0</td>\n",
       "    </tr>\n",
       "    <tr>\n",
       "      <th>20~30</th>\n",
       "      <td>0</td>\n",
       "    </tr>\n",
       "    <tr>\n",
       "      <th>30~40</th>\n",
       "      <td>2</td>\n",
       "    </tr>\n",
       "    <tr>\n",
       "      <th>40~50</th>\n",
       "      <td>8</td>\n",
       "    </tr>\n",
       "    <tr>\n",
       "      <th>50~60</th>\n",
       "      <td>16</td>\n",
       "    </tr>\n",
       "    <tr>\n",
       "      <th>60~70</th>\n",
       "      <td>18</td>\n",
       "    </tr>\n",
       "    <tr>\n",
       "      <th>70~80</th>\n",
       "      <td>6</td>\n",
       "    </tr>\n",
       "    <tr>\n",
       "      <th>80~90</th>\n",
       "      <td>0</td>\n",
       "    </tr>\n",
       "    <tr>\n",
       "      <th>90~100</th>\n",
       "      <td>0</td>\n",
       "    </tr>\n",
       "  </tbody>\n",
       "</table>\n",
       "</div>"
      ],
      "text/plain": [
       "        frequency\n",
       "class            \n",
       "0~10            0\n",
       "10~20           0\n",
       "20~30           0\n",
       "30~40           2\n",
       "40~50           8\n",
       "50~60          16\n",
       "60~70          18\n",
       "70~80           6\n",
       "80~90           0\n",
       "90~100          0"
      ]
     },
     "execution_count": 35,
     "metadata": {},
     "output_type": "execute_result"
    }
   ],
   "source": [
    "freq_dist_df"
   ]
  },
  {
   "cell_type": "code",
   "execution_count": 41,
   "id": "afcc806e",
   "metadata": {},
   "outputs": [
    {
     "name": "stdout",
     "output_type": "stream",
     "text": [
      "[0, 10, 20, 30, 40, 50, 60, 70, 80, 90]\n",
      "['0~10', '10~20', '20~30', '30~40', '40~50', '50~60', '60~70', '70~80', '80~90', '90~100']\n"
     ]
    }
   ],
   "source": [
    "a = [i for i in range(0, 100, 10)]\n",
    "print(a)\n",
    "\n",
    "b = [i for i in freq_class]\n",
    "print(b)"
   ]
  },
  {
   "cell_type": "code",
   "execution_count": 45,
   "id": "1a545915",
   "metadata": {},
   "outputs": [
    {
     "name": "stdout",
     "output_type": "stream",
     "text": [
      "[5, 15, 25, 35, 45, 55, 65, 75, 85, 95]\n",
      "[0.   0.   0.   0.04 0.16 0.32 0.36 0.12 0.   0.  ]\n",
      "[0.   0.   0.   0.04 0.2  0.52 0.88 1.   1.   1.  ]\n"
     ]
    }
   ],
   "source": [
    "# 계급값, 상대도수, 누적상대도수\n",
    "\n",
    "# 계급값\n",
    "class_value = [(i+(i+10))//2 for i in range(0, 100, 10)]          # //:나눴을 때의 몫을 의미\n",
    "print(class_value)\n",
    "\n",
    "# 상대도수\n",
    "rel_freq = freq / freq.sum()\n",
    "print(rel_freq)\n",
    "\n",
    "# 누적상대도수\n",
    "cum_rel_freq = np.cumsum(rel_freq)\n",
    "print(cum_rel_freq)"
   ]
  },
  {
   "cell_type": "code",
   "execution_count": 49,
   "id": "d3fd99bc",
   "metadata": {},
   "outputs": [
    {
     "data": {
      "text/html": [
       "<div>\n",
       "<style scoped>\n",
       "    .dataframe tbody tr th:only-of-type {\n",
       "        vertical-align: middle;\n",
       "    }\n",
       "\n",
       "    .dataframe tbody tr th {\n",
       "        vertical-align: top;\n",
       "    }\n",
       "\n",
       "    .dataframe thead th {\n",
       "        text-align: right;\n",
       "    }\n",
       "</style>\n",
       "<table border=\"1\" class=\"dataframe\">\n",
       "  <thead>\n",
       "    <tr style=\"text-align: right;\">\n",
       "      <th></th>\n",
       "      <th>class value</th>\n",
       "      <th>frequency</th>\n",
       "      <th>rel_freq</th>\n",
       "      <th>cum_rel_freq</th>\n",
       "    </tr>\n",
       "    <tr>\n",
       "      <th>class</th>\n",
       "      <th></th>\n",
       "      <th></th>\n",
       "      <th></th>\n",
       "      <th></th>\n",
       "    </tr>\n",
       "  </thead>\n",
       "  <tbody>\n",
       "    <tr>\n",
       "      <th>0~10</th>\n",
       "      <td>5</td>\n",
       "      <td>0</td>\n",
       "      <td>0.00</td>\n",
       "      <td>0.00</td>\n",
       "    </tr>\n",
       "    <tr>\n",
       "      <th>10~20</th>\n",
       "      <td>15</td>\n",
       "      <td>0</td>\n",
       "      <td>0.00</td>\n",
       "      <td>0.00</td>\n",
       "    </tr>\n",
       "    <tr>\n",
       "      <th>20~30</th>\n",
       "      <td>25</td>\n",
       "      <td>0</td>\n",
       "      <td>0.00</td>\n",
       "      <td>0.00</td>\n",
       "    </tr>\n",
       "    <tr>\n",
       "      <th>30~40</th>\n",
       "      <td>35</td>\n",
       "      <td>2</td>\n",
       "      <td>0.04</td>\n",
       "      <td>0.04</td>\n",
       "    </tr>\n",
       "    <tr>\n",
       "      <th>40~50</th>\n",
       "      <td>45</td>\n",
       "      <td>8</td>\n",
       "      <td>0.16</td>\n",
       "      <td>0.20</td>\n",
       "    </tr>\n",
       "    <tr>\n",
       "      <th>50~60</th>\n",
       "      <td>55</td>\n",
       "      <td>16</td>\n",
       "      <td>0.32</td>\n",
       "      <td>0.52</td>\n",
       "    </tr>\n",
       "    <tr>\n",
       "      <th>60~70</th>\n",
       "      <td>65</td>\n",
       "      <td>18</td>\n",
       "      <td>0.36</td>\n",
       "      <td>0.88</td>\n",
       "    </tr>\n",
       "    <tr>\n",
       "      <th>70~80</th>\n",
       "      <td>75</td>\n",
       "      <td>6</td>\n",
       "      <td>0.12</td>\n",
       "      <td>1.00</td>\n",
       "    </tr>\n",
       "    <tr>\n",
       "      <th>80~90</th>\n",
       "      <td>85</td>\n",
       "      <td>0</td>\n",
       "      <td>0.00</td>\n",
       "      <td>1.00</td>\n",
       "    </tr>\n",
       "    <tr>\n",
       "      <th>90~100</th>\n",
       "      <td>95</td>\n",
       "      <td>0</td>\n",
       "      <td>0.00</td>\n",
       "      <td>1.00</td>\n",
       "    </tr>\n",
       "  </tbody>\n",
       "</table>\n",
       "</div>"
      ],
      "text/plain": [
       "        class value  frequency  rel_freq  cum_rel_freq\n",
       "class                                                 \n",
       "0~10              5          0      0.00          0.00\n",
       "10~20            15          0      0.00          0.00\n",
       "20~30            25          0      0.00          0.00\n",
       "30~40            35          2      0.04          0.04\n",
       "40~50            45          8      0.16          0.20\n",
       "50~60            55         16      0.32          0.52\n",
       "60~70            65         18      0.36          0.88\n",
       "70~80            75          6      0.12          1.00\n",
       "80~90            85          0      0.00          1.00\n",
       "90~100           95          0      0.00          1.00"
      ]
     },
     "execution_count": 49,
     "metadata": {},
     "output_type": "execute_result"
    }
   ],
   "source": [
    "# 이전에 만든 도수분포표에 계급값, 상대도수, 누적상대도수 열 추가\n",
    "freq_dist_df['class value'] = class_value\n",
    "\n",
    "freq_dist_df['rel_freq'] = rel_freq\n",
    "\n",
    "freq_dist_df['cum_rel_freq'] = cum_rel_freq\n",
    "\n",
    "freq_dist_df = freq_dist_df[['class value', 'frequency', 'rel_freq', 'cum_rel_freq']]\n",
    "\n",
    "freq_dist_df"
   ]
  },
  {
   "cell_type": "code",
   "execution_count": 62,
   "id": "b84dad38",
   "metadata": {},
   "outputs": [
    {
     "data": {
      "image/png": "[encoded data removed]",
      "text/plain": [
       "<Figure size 720x432 with 1 Axes>"
      ]
     },
     "metadata": {
      "needs_background": "light"
     },
     "output_type": "display_data"
    }
   ],
   "source": [
    "# 1차원 데이터 시각화 방법\n",
    "\n",
    "# 히스토그램\n",
    "\n",
    "import matplotlib.pyplot as plt\n",
    "%matplotlib inline\n",
    "\n",
    "fig = plt.figure(figsize=(10, 6))\n",
    "ax = fig.add_subplot(111)\n",
    "\n",
    "freq, _, _ = ax.hist(english_scores, bins=10, range=(0, 100))\n",
    "\n",
    "ax.set_xlabel('score')\n",
    "ax.set_ylabel('person number')\n",
    "\n",
    "ax.set_xticks(np.linspace(0, 100, 10+1))\n",
    "ax.set_yticks(np.arange(0, freq.max()+1))\n",
    "\n",
    "plt.show()"
   ]
  },
  {
   "cell_type": "code",
   "execution_count": 66,
   "id": "3c1a7ae9",
   "metadata": {},
   "outputs": [
    {
     "data": {
      "image/png": "[encoded data removed]",
      "text/plain": [
       "<Figure size 576x576 with 1 Axes>"
      ]
     },
     "metadata": {
      "needs_background": "light"
     },
     "output_type": "display_data"
    }
   ],
   "source": [
    "# 2차원 데이터 시각화 방법\n",
    "\n",
    "# 산점도(scatter plot)\n",
    "\n",
    "import matplotlib.pyplot as plt\n",
    "%matplotlib inline\n",
    "\n",
    "english_scores = np.array(df['english'])\n",
    "math_scores = np.array(df['mathematics'])\n",
    "\n",
    "fig = plt.figure(figsize=(8, 8))\n",
    "ax = fig.add_subplot(111)\n",
    "\n",
    "ax.scatter(english_scores, math_scores)\n",
    "ax.set_xlabel('english')\n",
    "ax.set_ylabel('mathematics')\n",
    "\n",
    "plt.show()"
   ]
  },
  {
   "cell_type": "code",
   "execution_count": 68,
   "id": "7c522d8c",
   "metadata": {},
   "outputs": [
    {
     "data": {
      "image/png": "[encoded data removed]",
      "text/plain": [
       "<Figure size 720x576 with 2 Axes>"
      ]
     },
     "metadata": {
      "needs_background": "light"
     },
     "output_type": "display_data"
    }
   ],
   "source": [
    "# 2차원 데이터 시각화 방법\n",
    "\n",
    "# 히트맵(heatmap)\n",
    "\n",
    "fig = plt.figure(figsize=(10, 8))\n",
    "ax = fig.add_subplot(111)\n",
    "\n",
    "c = ax.hist2d(english_scores, math_scores, bins=[9, 8], range=[(35, 80), (55, 95)])\n",
    "\n",
    "ax.set_xlabel('english')\n",
    "ax.set_ylabel('mathematics')\n",
    "ax.set_xticks(c[1])\n",
    "ax.set_yticks(c[2])\n",
    "fig.colorbar(c[3], ax=ax)\n",
    "\n",
    "plt.show()"
   ]
  },
  {
   "cell_type": "code",
   "execution_count": 104,
   "id": "3fa469d7",
   "metadata": {},
   "outputs": [],
   "source": [
    "# 추측통계의 기본\n",
    "\n",
    "# 무작위추출 실습\n",
    "\n",
    "import numpy as np\n",
    "import pandas as pd\n",
    "import matplotlib.pyplot as plt\n",
    "%matplotlib inline\n",
    "\n",
    "df = pd.read_csv('C:/Users/User/Jupyter/statistical_analysis/data/ch4_scores400.csv')\n",
    "\n",
    "scores = np.array([df['score']])\n",
    "scores = np.squeeze(scores)"
   ]
  },
  {
   "cell_type": "code",
   "execution_count": 76,
   "id": "a056b890",
   "metadata": {},
   "outputs": [
    {
     "data": {
      "text/plain": [
       "(400,)"
      ]
     },
     "execution_count": 76,
     "metadata": {},
     "output_type": "execute_result"
    }
   ],
   "source": [
    "np.shape(scores)"
   ]
  },
  {
   "cell_type": "code",
   "execution_count": 77,
   "id": "814f223b",
   "metadata": {},
   "outputs": [],
   "source": [
    "np.random.seed(0)\n",
    "sample = np.random.choice(scores, 20, replace=False)"
   ]
  },
  {
   "cell_type": "code",
   "execution_count": 78,
   "id": "91dbb39c",
   "metadata": {},
   "outputs": [
    {
     "name": "stdout",
     "output_type": "stream",
     "text": [
      "69.53 68.6\n"
     ]
    }
   ],
   "source": [
    "print(np.mean(scores), np.mean(sample))"
   ]
  },
  {
   "cell_type": "code",
   "execution_count": 79,
   "id": "8239986b",
   "metadata": {},
   "outputs": [
    {
     "name": "stdout",
     "output_type": "stream",
     "text": [
      "1번째 무작위 추출로 얻은 표본평균 :  66.1\n",
      "2번째 무작위 추출로 얻은 표본평균 :  66.95\n",
      "3번째 무작위 추출로 얻은 표본평균 :  68.25\n",
      "4번째 무작위 추출로 얻은 표본평균 :  70.85\n",
      "5번째 무작위 추출로 얻은 표본평균 :  69.0\n",
      "6번째 무작위 추출로 얻은 표본평균 :  69.85\n",
      "7번째 무작위 추출로 얻은 표본평균 :  67.6\n",
      "8번째 무작위 추출로 얻은 표본평균 :  70.7\n",
      "9번째 무작위 추출로 얻은 표본평균 :  70.1\n",
      "10번째 무작위 추출로 얻은 표본평균 :  63.0\n"
     ]
    }
   ],
   "source": [
    "for i in range(10):\n",
    "    sample = np.random.choice(scores, 20, replace=False)\n",
    "    print(f'{i+1}번째 무작위 추출로 얻은 표본평균 : ', np.mean(sample))"
   ]
  },
  {
   "cell_type": "code",
   "execution_count": 105,
   "id": "d67b353f",
   "metadata": {},
   "outputs": [],
   "source": [
    "# 불공정한 주사위 실습\n",
    "dice = [i+1 for i in range(6)]\n",
    "prob = [1/21, 2/21, 3/21, 4/21, 5/21, 6/21]"
   ]
  },
  {
   "cell_type": "code",
   "execution_count": 93,
   "id": "502020a7",
   "metadata": {},
   "outputs": [
    {
     "name": "stdout",
     "output_type": "stream",
     "text": [
      "6\n"
     ]
    }
   ],
   "source": [
    "result = np.random.choice(dice, p=prob)\n",
    "print(result)"
   ]
  },
  {
   "cell_type": "code",
   "execution_count": 106,
   "id": "8ec3506c",
   "metadata": {},
   "outputs": [
    {
     "data": {
      "text/html": [
       "<div>\n",
       "<style scoped>\n",
       "    .dataframe tbody tr th:only-of-type {\n",
       "        vertical-align: middle;\n",
       "    }\n",
       "\n",
       "    .dataframe tbody tr th {\n",
       "        vertical-align: top;\n",
       "    }\n",
       "\n",
       "    .dataframe thead th {\n",
       "        text-align: right;\n",
       "    }\n",
       "</style>\n",
       "<table border=\"1\" class=\"dataframe\">\n",
       "  <thead>\n",
       "    <tr style=\"text-align: right;\">\n",
       "      <th></th>\n",
       "      <th>frequency</th>\n",
       "      <th>relative frequency</th>\n",
       "    </tr>\n",
       "    <tr>\n",
       "      <th>dice</th>\n",
       "      <th></th>\n",
       "      <th></th>\n",
       "    </tr>\n",
       "  </thead>\n",
       "  <tbody>\n",
       "    <tr>\n",
       "      <th>1</th>\n",
       "      <td>54</td>\n",
       "      <td>0.054</td>\n",
       "    </tr>\n",
       "    <tr>\n",
       "      <th>2</th>\n",
       "      <td>97</td>\n",
       "      <td>0.097</td>\n",
       "    </tr>\n",
       "    <tr>\n",
       "      <th>3</th>\n",
       "      <td>148</td>\n",
       "      <td>0.148</td>\n",
       "    </tr>\n",
       "    <tr>\n",
       "      <th>4</th>\n",
       "      <td>185</td>\n",
       "      <td>0.185</td>\n",
       "    </tr>\n",
       "    <tr>\n",
       "      <th>5</th>\n",
       "      <td>219</td>\n",
       "      <td>0.219</td>\n",
       "    </tr>\n",
       "    <tr>\n",
       "      <th>6</th>\n",
       "      <td>297</td>\n",
       "      <td>0.297</td>\n",
       "    </tr>\n",
       "  </tbody>\n",
       "</table>\n",
       "</div>"
      ],
      "text/plain": [
       "      frequency  relative frequency\n",
       "dice                               \n",
       "1            54               0.054\n",
       "2            97               0.097\n",
       "3           148               0.148\n",
       "4           185               0.185\n",
       "5           219               0.219\n",
       "6           297               0.297"
      ]
     },
     "execution_count": 106,
     "metadata": {},
     "output_type": "execute_result"
    }
   ],
   "source": [
    "# 여러 번 수행 후 도수분포표 및 히스토그램 시각화\n",
    "\n",
    "num_trial = 1000\n",
    "sample = np.random.choice(dice, num_trial, p=prob)\n",
    "#print(sample)\n",
    "\n",
    "# 도수분포표\n",
    "\n",
    "freq, _ = np.histogram(sample, bins=6, range=(1, 7))\n",
    "pd.DataFrame({'frequency':freq, 'relative frequency':freq / num_trial}, index=pd.Index(np.arange(1, 7), name='dice'))"
   ]
  },
  {
   "cell_type": "code",
   "execution_count": 110,
   "id": "f06b9c21",
   "metadata": {},
   "outputs": [
    {
     "data": {
      "image/png": "[encoded data removed]",
      "text/plain": [
       "<Figure size 720x432 with 1 Axes>"
      ]
     },
     "metadata": {
      "needs_background": "light"
     },
     "output_type": "display_data"
    }
   ],
   "source": [
    "# 히스토그램\n",
    "\n",
    "fig = plt.figure(figsize=(10, 6))\n",
    "ax = fig.add_subplot(111)\n",
    "ax.hist(sample, bins=6, range=(1, 7), density=True, rwidth=0.8)\n",
    "ax.hlines(prob, np.arange(1, 7), np.arange(2, 8), colors='gray')\n",
    "ax.set_xticks(np.linspace(1.5, 6.5, 6))\n",
    "ax.set_xticklabels(np.arange(1, 7))\n",
    "ax.set_xlabel('dice')\n",
    "ax.set_ylabel('relative frequency')\n",
    "plt.show()"
   ]
  },
  {
   "cell_type": "code",
   "execution_count": null,
   "id": "0aba79ca",
   "metadata": {},
   "outputs": [],
   "source": []
  }
 ],
 "metadata": {
  "kernelspec": {
   "display_name": "py_365",
   "language": "python",
   "name": "py_365"
  },
  "language_info": {
   "codemirror_mode": {
    "name": "ipython",
    "version": 3
   },
   "file_extension": ".py",
   "mimetype": "text/x-python",
   "name": "python",
   "nbconvert_exporter": "python",
   "pygments_lexer": "ipython3",
   "version": "3.6.5"
  }
 },
 "nbformat": 4,
 "nbformat_minor": 5
}
